{
 "cells": [
  {
   "cell_type": "markdown",
   "metadata": {},
   "source": [
    "## Use bonus plates (length of 4)\n",
    "## Important notes:\n",
    "### - new color model: number of channels = 4, one channel for each color  \n",
    "### - plate value encoded with a number: 0.1, 0.4, 1.0  \n",
    "### - v3.2: all helpers moved to external module\n",
    "### - v3.2: hint restored: s_before is now field after 'make_move'\n",
    "### - v3.3: debugging CNN since learning doesn't work\n",
    "### - v3.4: try bigger CNN \n",
    "### - v3.5: problem found. Large space of moves just doesn't work. Reduce to 1"
   ]
  },
  {
   "cell_type": "code",
   "execution_count": 54,
   "metadata": {},
   "outputs": [
    {
     "name": "stdout",
     "output_type": "stream",
     "text": [
      "Populating the interactive namespace from numpy and matplotlib\n"
     ]
    }
   ],
   "source": [
    "# Needed for tests and a real game against the phone\n",
    "#import pandas as pd\n",
    "#import qgrid\n",
    "\n",
    "import random as rd\n",
    "import numpy as np\n",
    "import tensorflow as tf\n",
    "\n",
    "from collections import deque\n",
    "\n",
    "import environment as ae\n",
    "\n",
    "%pylab inline"
   ]
  },
  {
   "cell_type": "markdown",
   "metadata": {},
   "source": [
    "## Constants"
   ]
  },
  {
   "cell_type": "code",
   "execution_count": 55,
   "metadata": {},
   "outputs": [],
   "source": [
    "# CNN\n",
    "LEARNING_RATE = 0.001\n",
    "DYNAMIC_LEARNING_EPOCHS = 5\n",
    "MINIBATCH_SIZE = 128\n",
    "UPDATE_TARGET_NET = 1000\n",
    "GAMMA = 0.95\n",
    "REWARD_SCALER = 100.\n",
    "\n",
    "# Definitions\n",
    "GAMES_TO_PLAY = 131072\n",
    "REPLAY_MEMORY_SIZE = 8192\n",
    "NUMBER_OF_MOVES_IN_GAME = 50\n",
    "\n",
    "# Variables\n",
    "MAXIMUM_SCORE = 0\n",
    "CNN_MOVE_PROB = 0.1\n",
    "CNN_MOVES_COUNT = 0\n",
    "CNN_SUCCESSFUL_PREDICTION = 0\n",
    "AGG_GAMES_NUMBER = 10\n",
    "TOTAL_SCORE_AGG = 0.0\n",
    "TOTAL_SUCCESSFUL_MOVES_AGG = 0.0"
   ]
  },
  {
   "cell_type": "markdown",
   "metadata": {},
   "source": [
    "### Replay Memory Buffer"
   ]
  },
  {
   "cell_type": "code",
   "execution_count": 56,
   "metadata": {},
   "outputs": [],
   "source": [
    "#\n",
    "# Replay memory buffer\n",
    "#\n",
    "class ExperienceBuffer():\n",
    "    '''\n",
    "    Experience Replay Buffer\n",
    "    Inspired by Andrea Lonza\n",
    "    '''\n",
    "\n",
    "    def __init__(self, buffer_size, gamma):\n",
    "        # Constants\n",
    "        self.gamma = gamma\n",
    "        \n",
    "        # Main Replay Memory buffer parts\n",
    "        self.states_before = deque(maxlen=buffer_size)\n",
    "        self.actions = deque(maxlen=buffer_size)\n",
    "        self.total_rewards = deque(maxlen=buffer_size)\n",
    "        self.states_after = deque(maxlen=buffer_size)\n",
    "        self.last_moves = deque(maxlen=buffer_size)\n",
    "   \n",
    "    \n",
    "    def add(self, state_before, action, reward, state_after, last_move):\n",
    "        # Add certain items to corresponding buffers\n",
    "        self.states_before.append(state_before)\n",
    "        self.actions.append(action)\n",
    "        self.total_rewards.append(reward)\n",
    "        self.states_after.append(state_after)\n",
    "        self.last_moves.append(last_move)\n",
    "    \n",
    "    \n",
    "    def sample_minibatch(self, minibatch_size):\n",
    "        '''\n",
    "        Sample a minibatch of size batch_size\n",
    "        Note1: always add the most recent completed move\n",
    "        '''\n",
    "        indices = rd.sample(range(len(self.states_before) - 1), minibatch_size - 1)\n",
    "        # Add the most recent completed move index\n",
    "        indices.append(len(self.states_before) - 1)\n",
    "        \n",
    "        minibatch_states_before = np.array([self.states_before[i] for i in indices]) \n",
    "        minibatch_actions = np.array([self.actions[i] for i in indices]) \n",
    "        minibatch_total_rewards = np.array([self.total_rewards[i] for i in indices]) \n",
    "        minibatch_states_after = np.array([self.states_after[i] for i in indices])  \n",
    "        minibatch_last_moves = np.array([self.last_moves[i] for i in indices])   \n",
    "        \n",
    "        return minibatch_states_before, minibatch_actions, minibatch_total_rewards, minibatch_states_after, minibatch_last_moves\n",
    "    \n",
    "    \n",
    "    def __len__(self):\n",
    "        '''\n",
    "        Return length of the current replay memory buffer\n",
    "        Relevant for the first *minibatch_size* moves.\n",
    "        '''\n",
    "        return len(self.states_before)\n",
    "    \n",
    "    \n",
    "    def max_rewards(self):\n",
    "        \"\"\"\n",
    "        Returns max reward in the current buffer\n",
    "        \"\"\"\n",
    "        maximum_value = 0\n",
    "        \n",
    "        for i in self.total_rewards:\n",
    "            if (i > maximum_value):\n",
    "                maximum_value = i\n",
    "                \n",
    "        return maximum_value\n",
    "    \n",
    "            \n",
    "    "
   ]
  },
  {
   "cell_type": "markdown",
   "metadata": {},
   "source": [
    "## Deep Q-Nework"
   ]
  },
  {
   "cell_type": "markdown",
   "metadata": {},
   "source": [
    "### Initialize Replay Buffer"
   ]
  },
  {
   "cell_type": "code",
   "execution_count": 57,
   "metadata": {},
   "outputs": [],
   "source": [
    "replay_memory = ExperienceBuffer(REPLAY_MEMORY_SIZE, GAMMA)"
   ]
  },
  {
   "cell_type": "markdown",
   "metadata": {},
   "source": [
    "### Initialize Online CNN and Target CNN"
   ]
  },
  {
   "cell_type": "code",
   "execution_count": 58,
   "metadata": {},
   "outputs": [],
   "source": [
    "tf.random.set_seed(8)\n",
    "\n",
    "# Initialize optimizer\n",
    "online_cnn_optimizer = tf.keras.optimizers.Adam(LEARNING_RATE)\n",
    "\n",
    "\n",
    "# Online CNN\n",
    "inputs = tf.keras.Input(shape=(7, 6, 4), batch_size=MINIBATCH_SIZE)\n",
    "\n",
    "x = tf.keras.layers.Conv2D(128, kernel_size=3, strides = (1, 1), padding='valid', activation=tf.nn.relu, data_format='channels_last', kernel_initializer='HeNormal')(inputs)\n",
    "x = tf.keras.layers.BatchNormalization()(x)\n",
    "\n",
    "x = tf.keras.layers.Conv2D(64, kernel_size=3, strides = (1, 1), padding='valid', activation=tf.nn.relu, data_format='channels_last', kernel_initializer='HeNormal')(x)\n",
    "x = tf.keras.layers.BatchNormalization()(x)\n",
    "\n",
    "x = tf.keras.layers.Flatten()(x)\n",
    "\n",
    "x = tf.keras.layers.Dense(64, activation=tf.nn.relu, kernel_initializer='HeNormal')(x)\n",
    "x = tf.keras.layers.BatchNormalization()(x)\n",
    "\n",
    "outputs = tf.keras.layers.Dense(ae.ACTIONS_DIMENSION, activation=tf.nn.softmax)(x)\n",
    "\n",
    "Online_CNN = tf.keras.Model(inputs=inputs, outputs=outputs)\n",
    "\n",
    "# Online CNN\n",
    "#Online_CNN = tf.keras.models.Sequential()\n",
    "#Online_CNN.add(tf.keras.layers.Conv2D(128, kernel_size=3, strides = (1, 1), padding='valid', activation=None, data_format='channels_last', kernel_initializer='HeNormal', input_shape=(7, 6, 4)))\n",
    "#Online_CNN.add(tf.keras.layers.Activation(\"relu\"))\n",
    "#Online_CNN.add(tf.keras.layers.BatchNormalization())\n",
    "\n",
    "#Online_CNN.add(tf.keras.layers.Conv2D(128, kernel_size=3, strides = (1, 1), padding='valid', activation=None, data_format='channels_last', kernel_initializer='HeNormal', input_shape=(7, 6, 4)))\n",
    "#Online_CNN.add(tf.keras.layers.Activation(\"relu\"))\n",
    "#Online_CNN.add(tf.keras.layers.BatchNormalization())\n",
    "\n",
    "#Online_CNN.add(tf.keras.layers.Flatten())        \n",
    "\n",
    "#Online_CNN.add(tf.keras.layers.Dense(64, activation=None, kernel_initializer='HeNormal'))\n",
    "#Online_CNN.add(tf.keras.layers.Activation(\"relu\"))\n",
    "#Online_CNN.add(tf.keras.layers.BatchNormalization())\n",
    "\n",
    "#Online_CNN.add(tf.keras.layers.Dense(ae.ACTIONS_DIMENSION, activation=None, kernel_initializer='HeNormal'))\n",
    "#Online_CNN.add(tf.keras.layers.Activation(\"softmax\"))\n",
    "\n",
    "\n",
    "#Online_CNN.compile(optimizer=online_cnn_optimizer, loss=\"mean_squared_error\")\n",
    "\n",
    "\n",
    "\n",
    "# Target CNN\n",
    "#Target_CNN = tf.keras.models.Sequential()\n",
    "#Target_CNN.add(tf.keras.layers.Conv2D(128, kernel_size=3, strides = (1, 1), padding='same', activation=tf.keras.activations.tanh, data_format = 'channels_last', kernel_initializer='RandomNormal', input_shape=(7, 6, 4)))\n",
    "#Target_CNN.add(tf.keras.layers.Conv2D(64, kernel_size=3, strides = (1, 1), padding='same', activation=tf.keras.activations.tanh, kernel_initializer='RandomNormal'))    \n",
    "#Target_CNN.add(tf.keras.layers.Flatten())                      \n",
    "#Target_CNN.add(tf.keras.layers.Dense(32, activation=tf.keras.activations.relu, kernel_initializer='RandomNormal'))\n",
    "#Target_CNN.add(tf.keras.layers.Dense(1, activation=tf.keras.activations.relu, kernel_initializer='RandomNormal'))\n",
    "\n",
    "#Target_CNN.compile(optimizer=online_cnn_optimizer, loss=\"mean_squared_error\")\n",
    "\n",
    "\n",
    "# Set weights equal\n",
    "#Target_CNN.set_weights(Online_CNN.get_weights())\n",
    "\n",
    "# Just to see how many trainable parameters\n",
    "#Online_CNN.summary()"
   ]
  },
  {
   "cell_type": "code",
   "execution_count": 59,
   "metadata": {},
   "outputs": [],
   "source": [
    "def loss(model, X, y_true, A):\n",
    "    prediction = model(X)\n",
    "    selected_action_values = tf.math.reduce_sum(prediction*A, axis=1)  \n",
    "    return tf.keras.losses.MSE(y_true, selected_action_values)\n",
    "\n",
    "\n",
    "def grad(model, inputs, targets, actions):\n",
    "    with tf.GradientTape() as tape:\n",
    "        loss_value = loss(model, inputs, targets, actions)\n",
    "    return loss_value, tape.gradient(loss_value, model.trainable_variables)"
   ]
  },
  {
   "cell_type": "markdown",
   "metadata": {},
   "source": [
    "## Dynamic Learning"
   ]
  },
  {
   "cell_type": "code",
   "execution_count": null,
   "metadata": {
    "scrolled": true
   },
   "outputs": [
    {
     "name": "stdout",
     "output_type": "stream",
     "text": [
      "New maximum: 79, after 0 games.\n",
      "New maximum: 97, after 6 games.\n",
      "New maximum: 133, after 7 games.\n",
      "Games: 10, last 10 games avg score: 69.4, avg of succ moves: 10.1\n",
      "CNN made 40 moves. Successful were 7\n",
      "rewards_next is 3.8346798792481422\n",
      "Games: 20, last 10 games avg score: 60.2, avg of succ moves: 9.4\n",
      "CNN made 101 moves. Successful were 14\n",
      "rewards_next is 5.3612544275820255\n",
      "Games: 30, last 10 games avg score: 67.3, avg of succ moves: 9.6\n",
      "CNN made 92 moves. Successful were 16\n",
      "rewards_next is 5.010079767554998\n",
      "Games: 40, last 10 games avg score: 59.5, avg of succ moves: 8.4\n",
      "CNN made 101 moves. Successful were 17\n",
      "rewards_next is 3.3088331185281277\n",
      "Games: 50, last 10 games avg score: 54.7, avg of succ moves: 9.0\n",
      "CNN made 94 moves. Successful were 13\n",
      "rewards_next is 7.610688075423241\n",
      "Games: 60, last 10 games avg score: 59.7, avg of succ moves: 9.9\n",
      "CNN made 92 moves. Successful were 25\n",
      "rewards_next is 3.9441732838749886\n",
      "Games: 70, last 10 games avg score: 71.5, avg of succ moves: 9.6\n",
      "CNN made 146 moves. Successful were 24\n",
      "rewards_next is 3.0330492965877056\n"
     ]
    }
   ],
   "source": [
    "%%time\n",
    "\n",
    "FOUND = False\n",
    "\n",
    "# Number of moves made to follow the target CNN update strategy\n",
    "total_moves = 1\n",
    "                                                      \n",
    "for game in range(GAMES_TO_PLAY):\n",
    "    # Start one game\n",
    "    game_score = 0\n",
    "    successful_moves = 0\n",
    "\n",
    "    # Initialize the game field\n",
    "    field = np.zeros((7, 6, 4))\n",
    "    field = ae.initialize_field_3D(field)\n",
    "\n",
    "    for m in range(NUMBER_OF_MOVES_IN_GAME):\n",
    "        # Total score of one move\n",
    "        reward = 0\n",
    "\n",
    "        # Whether CNN made the move\n",
    "        cnn_made_move_flag = False\n",
    "        \n",
    "        # If replay_memory has less than 64 moves, then make a random move\n",
    "        if ((len(replay_memory) < MINIBATCH_SIZE) or (rd.random() > CNN_MOVE_PROB)):\n",
    "            move = rd.randint(1, ae.ACTIONS_DIMENSION)\n",
    "        else:\n",
    "            # CNN selects a move\n",
    "            cnn_made_move_flag = True\n",
    "            CNN_MOVES_COUNT = CNN_MOVES_COUNT + 1\n",
    "            #\n",
    "            # Predict the move using the hint\n",
    "            #\n",
    "            #_, move = ae.predict_max_score_3D(field.copy(), Target_CNN, ae.ACTIONS_DIMENSION, ae.MOVES)\n",
    "            #_, move = ae.predict_max_score_3D(field.copy(), Online_CNN, ae.ACTIONS_DIMENSION, ae.MOVES)\n",
    "            #\n",
    "            # Predict the move without the hint\n",
    "            #\n",
    "            move = np.argmax(Online_CNN(np.expand_dims(field.copy(), axis=0))) + 1\n",
    "            \n",
    "        # Make the move\n",
    "        new_field, plate_a, plate_b = ae.make_move_v2_3D(field.copy(), move, ae.MOVES)\n",
    "        field_after_move = new_field.copy()\n",
    "\n",
    "        # Calculate the score and update the field\n",
    "        score, new_field = ae.calculate_score_v2_3D(new_field, plate_a, plate_b)\n",
    "        \n",
    "        # If the move is successful, then update the field and check if we have new sets        \n",
    "        successful_move_flag = False\n",
    "\n",
    "        # While we have new sets (thus the score is greater than 0), process them, calculate score and move plates\n",
    "        while (score > 0.):\n",
    "            if (not successful_move_flag):\n",
    "                successful_moves = successful_moves + 1\n",
    "                successful_move_flag = True\n",
    "\n",
    "            # Add new points to the total score of the move\n",
    "            reward = reward + score\n",
    "\n",
    "            # Move plates downward, fill the upper row so, that it doesn't have \"easy\" sets of three\n",
    "            # Start from the left lower corner (in order to reuse color_fits())\n",
    "            new_field = ae.fill_field_3D(new_field)\n",
    "\n",
    "            # Calculate score and check whether we have new sets\n",
    "            score, new_field = ae.calculate_score_v2_3D(new_field, (-1, -1), (-1, -1))\n",
    "\n",
    "        # Increase the score of the whole game\n",
    "        game_score = game_score + reward\n",
    "        \n",
    "        # Check whether it's the last move of the current game\n",
    "        last_move = m == NUMBER_OF_MOVES_IN_GAME - 1         \n",
    "\n",
    "        # Add new move to the replay memory\n",
    "        if (successful_move_flag):\n",
    "            #replay_memory.add(field_after_move, move, reward, new_field, last_move)\n",
    "            replay_memory.add(field_after_move, move, reward / REWARD_SCALER, new_field, last_move)\n",
    "            \n",
    "            # Update CNN move statistics\n",
    "            if (cnn_made_move_flag):    \n",
    "                CNN_SUCCESSFUL_PREDICTION = CNN_SUCCESSFUL_PREDICTION + 1               \n",
    "                \n",
    "        else:\n",
    "            replay_memory.add(field_after_move, move, 0, field, last_move)   \n",
    "        \n",
    "        #\n",
    "        # Train CNN based on the score\n",
    "        #\n",
    "        if (len(replay_memory) >= MINIBATCH_SIZE):\n",
    "            # Select random MINIBATCH_SIZE moves from replay memory buffer\n",
    "            samples = replay_memory.sample_minibatch(MINIBATCH_SIZE)\n",
    "\n",
    "            # Prepare some things for training\n",
    "            s_before = samples[0]\n",
    "            actions = samples[1]\n",
    "            rewards = samples[2]\n",
    "            s_after = samples[3] \n",
    "            dones = samples[4]\n",
    "            \n",
    "            # Carefully predict next rewards: we must use predict_max_score\n",
    "            rewards_next = np.zeros((MINIBATCH_SIZE))\n",
    "            \n",
    "            for item in range(MINIBATCH_SIZE):\n",
    "                # Calculate future rewards ONLY if current reward is NOT zero, otherwise no sense\n",
    "                if (rewards[item] > 0):\n",
    "                    #\n",
    "                    # Predict the move using the hint\n",
    "                    #\n",
    "                    #rewards_next[item], _ = ae.predict_max_score_3D(s_after[item], Target_CNN, ae.ACTIONS_DIMENSION, ae.MOVES)\n",
    "                    #rewards_next[item], _ = ae.predict_max_score_3D(s_after[item], Online_CNN, ae.ACTIONS_DIMENSION, ae.MOVES)\n",
    "                    #\n",
    "                    # Predict the move without the hint\n",
    "                    #\n",
    "                    rewards_next[item] = np.max(Online_CNN(np.expand_dims(s_after[item], axis=0)))\n",
    "\n",
    "            #\n",
    "            # Update online CNN weights: training step\n",
    "            #\n",
    "            actual_values = np.where(dones, rewards, rewards + GAMMA*rewards_next)\n",
    "            \n",
    "            selected_actions = tf.one_hot(actions - 1, ae.ACTIONS_DIMENSION)\n",
    "            \n",
    "            for _ in range(DYNAMIC_LEARNING_EPOCHS):             \n",
    "                loss_value, grads = grad(Online_CNN, s_before, actual_values, selected_actions)\n",
    "                online_cnn_optimizer.apply_gradients(zip(grads, Online_CNN.trainable_variables))\n",
    "                \n",
    "                #if (game % AGG_GAMES_NUMBER == 0):\n",
    "                #    print(loss_value)\n",
    "            \n",
    "            #\n",
    "            # This method is unstable: I couldn't make it work regularly\n",
    "            #\n",
    "            #history = Online_CNN.fit(x=s_before, y=actual_values, epochs=DYNAMIC_LEARNING_EPOCHS, verbose=0)\n",
    "            #loss_value = history.history[\"loss\"]\n",
    "            \n",
    "            # DEBUG: Trying to find a reason of NaN\n",
    "            for layer in Online_CNN.layers:\n",
    "                weights = layer.get_weights()\n",
    "                for w in weights:\n",
    "                    if (np.isnan(w).sum() > 0):\n",
    "                        FOUND = True\n",
    "                        break\n",
    "                if (FOUND):\n",
    "                    break\n",
    "                    \n",
    "        if (FOUND):\n",
    "            print(\"NaN value found!\")\n",
    "            break\n",
    "\n",
    "        # If move is successful, update the play field\n",
    "        if (successful_move_flag):\n",
    "            field = np.copy(new_field)\n",
    "            \n",
    "        # After each UPDATE_TARGET_NET moves update target CNN\n",
    "        #if (total_moves % UPDATE_TARGET_NET == 0):\n",
    "        #    Target_CNN.set_weights(Online_CNN.get_weights())\n",
    "            \n",
    "        total_moves = total_moves + 1\n",
    "\n",
    "    if (FOUND):\n",
    "        break\n",
    "        \n",
    "    #\n",
    "    # Calculate and display overall stats\n",
    "    #\n",
    "    # Check whether we have new maximum score\n",
    "    if (game_score > MAXIMUM_SCORE):\n",
    "        print(f\"New maximum: {game_score}, after {game} games.\")\n",
    "        MAXIMUM_SCORE = game_score\n",
    "        \n",
    "    # After each AGG_GAMES_NUMBER games output average game score, average number of successful moves per game\n",
    "    TOTAL_SCORE_AGG = TOTAL_SCORE_AGG + game_score\n",
    "    TOTAL_SUCCESSFUL_MOVES_AGG = TOTAL_SUCCESSFUL_MOVES_AGG + successful_moves\n",
    "    \n",
    "    if ((game % AGG_GAMES_NUMBER == 0) and (game > 0)):\n",
    "        avg_score = TOTAL_SCORE_AGG / AGG_GAMES_NUMBER\n",
    "        TOTAL_SCORE_AGG = 0.0\n",
    "        \n",
    "        avg_succ_moves = TOTAL_SUCCESSFUL_MOVES_AGG / AGG_GAMES_NUMBER\n",
    "        TOTAL_SUCCESSFUL_MOVES_AGG = 0.0\n",
    "\n",
    "        print(f\"Games: {game}, last {AGG_GAMES_NUMBER} games avg score: {avg_score}, avg of succ moves: {avg_succ_moves}\")        \n",
    "        print(f\"CNN made {CNN_MOVES_COUNT} moves. Successful were {CNN_SUCCESSFUL_PREDICTION}\")\n",
    "        print(f\"rewards_next is {rewards_next.sum()}\")\n",
    "        \n",
    "        if (CNN_SUCCESSFUL_PREDICTION / CNN_MOVES_COUNT >= CNN_MOVE_PROB):\n",
    "            CNN_MOVE_PROB = CNN_MOVE_PROB + 0.1\n",
    "            \n",
    "        CNN_MOVES_COUNT = 0\n",
    "        CNN_SUCCESSFUL_PREDICTION = 0\n"
   ]
  },
  {
   "cell_type": "code",
   "execution_count": 36,
   "metadata": {},
   "outputs": [
    {
     "name": "stdout",
     "output_type": "stream",
     "text": [
      "tf.Tensor(0.036098875, shape=(), dtype=float32)\n",
      "tf.Tensor(0.036079153, shape=(), dtype=float32)\n",
      "tf.Tensor(0.03606136, shape=(), dtype=float32)\n",
      "tf.Tensor(0.03604541, shape=(), dtype=float32)\n",
      "tf.Tensor(0.036031112, shape=(), dtype=float32)\n"
     ]
    }
   ],
   "source": [
    "for _ in range(DYNAMIC_LEARNING_EPOCHS):             \n",
    "    loss_value, grads = grad(Online_CNN, s_before, actual_values, selected_actions)\n",
    "    online_cnn_optimizer.apply_gradients(zip(grads, Online_CNN.trainable_variables))\n",
    "    print(loss_value)"
   ]
  },
  {
   "cell_type": "code",
   "execution_count": 37,
   "metadata": {
    "scrolled": true
   },
   "outputs": [
    {
     "data": {
      "text/plain": [
       "<tf.Tensor: shape=(), dtype=float32, numpy=0.00011770205>"
      ]
     },
     "execution_count": 37,
     "metadata": {},
     "output_type": "execute_result"
    }
   ],
   "source": [
    "Online_CNN(np.expand_dims(s_before[0], axis=0))[0, 9]"
   ]
  },
  {
   "cell_type": "code",
   "execution_count": 38,
   "metadata": {},
   "outputs": [
    {
     "data": {
      "text/plain": [
       "0.05"
      ]
     },
     "execution_count": 38,
     "metadata": {},
     "output_type": "execute_result"
    }
   ],
   "source": [
    "rewards[0]"
   ]
  },
  {
   "cell_type": "code",
   "execution_count": 41,
   "metadata": {},
   "outputs": [
    {
     "data": {
      "text/plain": [
       "<tf.Tensor: shape=(142,), dtype=float32, numpy=\n",
       "array([0., 0., 0., 0., 0., 0., 0., 0., 0., 1., 0., 0., 0., 0., 0., 0., 0.,\n",
       "       0., 0., 0., 0., 0., 0., 0., 0., 0., 0., 0., 0., 0., 0., 0., 0., 0.,\n",
       "       0., 0., 0., 0., 0., 0., 0., 0., 0., 0., 0., 0., 0., 0., 0., 0., 0.,\n",
       "       0., 0., 0., 0., 0., 0., 0., 0., 0., 0., 0., 0., 0., 0., 0., 0., 0.,\n",
       "       0., 0., 0., 0., 0., 0., 0., 0., 0., 0., 0., 0., 0., 0., 0., 0., 0.,\n",
       "       0., 0., 0., 0., 0., 0., 0., 0., 0., 0., 0., 0., 0., 0., 0., 0., 0.,\n",
       "       0., 0., 0., 0., 0., 0., 0., 0., 0., 0., 0., 0., 0., 0., 0., 0., 0.,\n",
       "       0., 0., 0., 0., 0., 0., 0., 0., 0., 0., 0., 0., 0., 0., 0., 0., 0.,\n",
       "       0., 0., 0., 0., 0., 0.], dtype=float32)>"
      ]
     },
     "execution_count": 41,
     "metadata": {},
     "output_type": "execute_result"
    }
   ],
   "source": [
    "selected_actions[0]"
   ]
  },
  {
   "cell_type": "code",
   "execution_count": 45,
   "metadata": {},
   "outputs": [
    {
     "name": "stdout",
     "output_type": "stream",
     "text": [
      "tf.Tensor(0.00011770249, shape=(), dtype=float32)\n"
     ]
    }
   ],
   "source": [
    "prediction = Online_CNN(s_before)\n",
    "A = tf.one_hot(actions - 1, ae.ACTIONS_DIMENSION)\n",
    "\n",
    "selected_action_values = tf.math.reduce_sum(prediction*A, axis=1)  \n",
    "print(selected_action_values[0])"
   ]
  },
  {
   "cell_type": "code",
   "execution_count": 46,
   "metadata": {},
   "outputs": [
    {
     "data": {
      "text/plain": [
       "<tf.Tensor: shape=(142,), dtype=float32, numpy=\n",
       "array([1.14960083e-20, 1.79135495e-09, 4.15117829e-05, 7.13613408e-04,\n",
       "       7.58423585e-06, 3.82892661e-22, 3.96376532e-16, 1.01846399e-06,\n",
       "       2.67718860e-08, 1.17702490e-04, 7.88977704e-05, 2.96565122e-04,\n",
       "       7.49540504e-06, 1.05305975e-04, 1.59048227e-06, 1.09589635e-07,\n",
       "       2.44232057e-17, 7.08847425e-09, 1.12576470e-01, 4.39487139e-18,\n",
       "       1.43294055e-05, 1.16193678e-05, 1.73102048e-08, 5.13367727e-03,\n",
       "       1.33756669e-02, 8.38138876e-05, 1.40899187e-03, 8.32652877e-05,\n",
       "       8.46006401e-07, 5.13828509e-13, 3.00340558e-10, 1.38449411e-06,\n",
       "       9.62071135e-06, 1.08816789e-03, 3.77631260e-08, 2.26012689e-05,\n",
       "       3.32409842e-03, 5.37392218e-04, 1.95555167e-05, 3.34664243e-08,\n",
       "       5.53370717e-13, 5.33842581e-10, 3.35473160e-09, 4.08849417e-08,\n",
       "       5.31792784e-06, 6.84165920e-04, 5.31670375e-05, 1.99282125e-01,\n",
       "       8.33482714e-04, 1.55737840e-08, 7.03878095e-03, 1.61575754e-05,\n",
       "       2.25905761e-13, 5.66630876e-09, 3.36112187e-08, 6.89559968e-14,\n",
       "       8.71940119e-06, 6.42969448e-04, 2.49614270e-04, 1.94862259e-05,\n",
       "       2.70081091e-05, 7.01559984e-05, 3.24128399e-04, 1.22035893e-09,\n",
       "       9.36067630e-13, 7.15722479e-07, 2.14552106e-17, 8.41219844e-06,\n",
       "       6.63826597e-07, 2.57886527e-03, 6.13448208e-07, 9.33855993e-10,\n",
       "       3.01048439e-13, 3.25287925e-03, 1.90037656e-06, 1.06484920e-04,\n",
       "       3.91082559e-03, 4.55935498e-11, 6.09425399e-18, 1.07225553e-08,\n",
       "       3.67642060e-13, 5.18064871e-06, 6.98400264e-15, 2.37587979e-03,\n",
       "       4.36490700e-06, 6.93641850e-05, 1.52995606e-04, 9.78303797e-05,\n",
       "       5.52456513e-05, 2.09474796e-03, 4.32217530e-06, 7.61164393e-24,\n",
       "       1.14068360e-15, 3.24940501e-08, 1.35216140e-03, 2.34806444e-04,\n",
       "       5.01365066e-05, 1.03736660e-04, 1.88293459e-03, 5.51278936e-04,\n",
       "       1.59697039e-12, 1.16276599e-01, 2.90752918e-01, 5.75426748e-05,\n",
       "       3.31647368e-03, 3.18952614e-10, 2.36941292e-03, 9.92163796e-10,\n",
       "       3.34898260e-08, 5.72960917e-03, 1.34712041e-04, 4.84189056e-02,\n",
       "       5.66485774e-08, 3.80326062e-04, 1.18505284e-01, 1.32554292e-03,\n",
       "       3.85603830e-02, 9.38295561e-04, 4.72374808e-07, 7.22116766e-08,\n",
       "       7.50928830e-09, 9.41126842e-13, 2.22934074e-15, 7.26977523e-05,\n",
       "       7.35505767e-10, 1.93430001e-08, 2.89393898e-10, 3.43504385e-03,\n",
       "       3.68904352e-09, 7.51227560e-07, 1.95876765e-03, 3.46656059e-09,\n",
       "       3.60265294e-05, 8.08078660e-10, 5.46381671e-07, 6.29791286e-09,\n",
       "       2.98948953e-06, 5.11659717e-04, 5.91004523e-10, 1.43368054e-10,\n",
       "       3.22153437e-09, 9.93112881e-09], dtype=float32)>"
      ]
     },
     "execution_count": 46,
     "metadata": {},
     "output_type": "execute_result"
    }
   ],
   "source": [
    "prediction[0]"
   ]
  },
  {
   "cell_type": "code",
   "execution_count": null,
   "metadata": {},
   "outputs": [],
   "source": [
    "rewards"
   ]
  },
  {
   "cell_type": "code",
   "execution_count": null,
   "metadata": {},
   "outputs": [],
   "source": [
    "replay_memory.max_rewards()"
   ]
  },
  {
   "cell_type": "code",
   "execution_count": null,
   "metadata": {},
   "outputs": [],
   "source": [
    "np.where(dones, rewards, rewards + GAMMA*rewards_next)"
   ]
  },
  {
   "cell_type": "code",
   "execution_count": null,
   "metadata": {},
   "outputs": [],
   "source": [
    "Online_CNN.predict(np.expand_dims(s_before[1], axis=0))"
   ]
  },
  {
   "cell_type": "code",
   "execution_count": null,
   "metadata": {},
   "outputs": [],
   "source": [
    "np.isnan(s_before).sum()"
   ]
  },
  {
   "cell_type": "code",
   "execution_count": null,
   "metadata": {
    "scrolled": true
   },
   "outputs": [],
   "source": [
    "for layer in Online_CNN.layers:\n",
    "    weights = layer.get_weights()\n",
    "    print(weights)"
   ]
  },
  {
   "cell_type": "code",
   "execution_count": null,
   "metadata": {},
   "outputs": [],
   "source": [
    "m = 0\n",
    "\n",
    "for i in replay_memory:\n",
    "    if (i[2] > m):\n",
    "        m = i[2]\n",
    "        \n",
    "print(m)"
   ]
  },
  {
   "cell_type": "markdown",
   "metadata": {},
   "source": [
    "## Debuggin the Hint"
   ]
  },
  {
   "cell_type": "code",
   "execution_count": null,
   "metadata": {},
   "outputs": [],
   "source": [
    "# Total score of one move\n",
    "reward = 0\n",
    "\n",
    "# Whether CNN made the move\n",
    "cnn_made_move_flag = False\n",
    "\n",
    "# If replay_memory has less than 64 moves, then make a random move\n",
    "if ((len(replay_memory) < MINIBATCH_SIZE) or (rd.random() > CNN_MOVE_PROB)):\n",
    "    move = rd.randint(1, ae.ACTIONS_DIMENSION)\n",
    "else:\n",
    "    # CNN selects a move\n",
    "    cnn_made_move_flag = True\n",
    "    CNN_MOVES_COUNT = CNN_MOVES_COUNT + 1\n",
    "    scr, move = ae.predict_max_score_3D(field.copy(), Target_CNN, ae.ACTIONS_DIMENSION, ae.MOVES)\n",
    "    print(f\"Predicted move {move} with score of {scr}\")"
   ]
  },
  {
   "cell_type": "code",
   "execution_count": null,
   "metadata": {},
   "outputs": [],
   "source": [
    "# Make the move\n",
    "new_field, plate_a, plate_b = ae.make_move_v2_3D(field.copy(), move, ae.MOVES)\n",
    "field_after_move = new_field.copy()\n",
    "\n",
    "# Calculate the score and update the field\n",
    "score, new_field = ae.calculate_score_v2_3D(new_field, plate_a, plate_b)\n",
    "\n",
    "# If the move is successful, then update the field and check if we have new sets        \n",
    "successful_move_flag = False\n",
    "\n",
    "# While we have new sets (thus the score is greater than 0), process them, calculate score and move plates\n",
    "while (score > 0.):\n",
    "    if (not successful_move_flag):\n",
    "        successful_moves = successful_moves + 1\n",
    "        successful_move_flag = True\n",
    "\n",
    "    # Add new points to the total score of the move\n",
    "    reward = reward + score\n",
    "\n",
    "    # Move plates downward, fill the upper row so, that it doesn't have \"easy\" sets of three\n",
    "    # Start from the left lower corner (in order to reuse color_fits())\n",
    "    new_field = ae.fill_field_3D(new_field)\n",
    "\n",
    "    # Calculate score and check whether we have new sets\n",
    "    score, new_field = ae.calculate_score_v2_3D(new_field, (-1, -1), (-1, -1))\n",
    "\n",
    "print(reward)\n"
   ]
  },
  {
   "cell_type": "code",
   "execution_count": null,
   "metadata": {},
   "outputs": [],
   "source": [
    "\n",
    "#\n",
    "# Train CNN based on the score\n",
    "#\n",
    "\n",
    "samples = replay_memory.sample_minibatch(MINIBATCH_SIZE)\n",
    "\n",
    "# Prepare some things for training\n",
    "s_before = samples[0]\n",
    "actions = samples[1]\n",
    "rewards = samples[2]\n",
    "s_after = samples[3] \n",
    "dones = samples[4]\n"
   ]
  },
  {
   "cell_type": "code",
   "execution_count": null,
   "metadata": {},
   "outputs": [],
   "source": [
    "def loss(model, X, y_true, A):\n",
    "    prediction = model(X)\n",
    "    selected_action_values = tf.math.reduce_sum(prediction*A, axis=1)  \n",
    "    return tf.keras.losses.MSE(y_true, selected_action_values)\n",
    "\n",
    "\n",
    "def grad(model, inputs, targets, actions):\n",
    "    with tf.GradientTape() as tape:\n",
    "        loss_value = loss(model, inputs, targets, actions)\n",
    "    return loss_value, tape.gradient(loss_value, model.trainable_variables)"
   ]
  },
  {
   "cell_type": "code",
   "execution_count": null,
   "metadata": {},
   "outputs": [],
   "source": [
    "rewards_next = np.max(Target_CNN(s_after), axis=1)\n",
    "actual_values = np.where(dones, rewards, rewards + GAMMA*rewards_next)\n",
    "selected_actions = tf.one_hot(actions, ae.ACTIONS_DIMENSION)"
   ]
  },
  {
   "cell_type": "code",
   "execution_count": null,
   "metadata": {},
   "outputs": [],
   "source": [
    "loss_value, grads = grad(Online_CNN, s_before, actual_values, selected_actions)\n",
    "\n",
    "print(\"Step: {}, Initial Loss: {}\".format(optimizer.iterations.numpy(), loss_value.numpy()))\n",
    "\n",
    "optimizer.apply_gradients(zip(grads, Online_CNN.trainable_variables))\n",
    "\n",
    "print(\"Step: {}, Loss: {}\".format(optimizer.iterations.numpy(), loss(Online_CNN, s_before, actual_values, selected_actions).numpy()))"
   ]
  },
  {
   "cell_type": "code",
   "execution_count": null,
   "metadata": {},
   "outputs": [],
   "source": []
  },
  {
   "cell_type": "code",
   "execution_count": null,
   "metadata": {
    "scrolled": false
   },
   "outputs": [],
   "source": []
  },
  {
   "cell_type": "code",
   "execution_count": null,
   "metadata": {},
   "outputs": [],
   "source": []
  },
  {
   "cell_type": "code",
   "execution_count": null,
   "metadata": {},
   "outputs": [],
   "source": []
  },
  {
   "cell_type": "code",
   "execution_count": null,
   "metadata": {},
   "outputs": [],
   "source": []
  },
  {
   "cell_type": "code",
   "execution_count": null,
   "metadata": {},
   "outputs": [],
   "source": []
  },
  {
   "cell_type": "code",
   "execution_count": null,
   "metadata": {},
   "outputs": [],
   "source": []
  },
  {
   "cell_type": "code",
   "execution_count": null,
   "metadata": {},
   "outputs": [],
   "source": []
  },
  {
   "cell_type": "code",
   "execution_count": null,
   "metadata": {},
   "outputs": [],
   "source": []
  },
  {
   "cell_type": "code",
   "execution_count": null,
   "metadata": {},
   "outputs": [],
   "source": []
  },
  {
   "cell_type": "code",
   "execution_count": null,
   "metadata": {},
   "outputs": [],
   "source": []
  },
  {
   "cell_type": "code",
   "execution_count": null,
   "metadata": {},
   "outputs": [],
   "source": []
  },
  {
   "cell_type": "code",
   "execution_count": null,
   "metadata": {},
   "outputs": [],
   "source": []
  },
  {
   "cell_type": "code",
   "execution_count": null,
   "metadata": {
    "scrolled": true
   },
   "outputs": [],
   "source": []
  },
  {
   "cell_type": "code",
   "execution_count": null,
   "metadata": {},
   "outputs": [],
   "source": []
  },
  {
   "cell_type": "code",
   "execution_count": null,
   "metadata": {},
   "outputs": [],
   "source": []
  },
  {
   "cell_type": "markdown",
   "metadata": {},
   "source": [
    "### Now the CNN has been trained.\n",
    "### Start the long reinforcement-learning cycle"
   ]
  },
  {
   "cell_type": "code",
   "execution_count": null,
   "metadata": {},
   "outputs": [],
   "source": []
  },
  {
   "cell_type": "code",
   "execution_count": null,
   "metadata": {},
   "outputs": [],
   "source": []
  },
  {
   "cell_type": "code",
   "execution_count": null,
   "metadata": {},
   "outputs": [],
   "source": []
  },
  {
   "cell_type": "code",
   "execution_count": null,
   "metadata": {
    "scrolled": true
   },
   "outputs": [],
   "source": [
    "successful_moves"
   ]
  },
  {
   "cell_type": "code",
   "execution_count": null,
   "metadata": {},
   "outputs": [],
   "source": [
    "new_field = make_move(field, move)\n",
    "print(new_field)"
   ]
  },
  {
   "cell_type": "code",
   "execution_count": null,
   "metadata": {},
   "outputs": [],
   "source": [
    "temp_field = calculate_score(new_field)"
   ]
  },
  {
   "cell_type": "code",
   "execution_count": null,
   "metadata": {},
   "outputs": [],
   "source": [
    "new_field = np.multiply(new_field, 1.0 - temp_field)"
   ]
  },
  {
   "cell_type": "code",
   "execution_count": null,
   "metadata": {},
   "outputs": [],
   "source": [
    "fill_field(new_field, colors)"
   ]
  },
  {
   "cell_type": "code",
   "execution_count": null,
   "metadata": {},
   "outputs": [],
   "source": []
  },
  {
   "cell_type": "code",
   "execution_count": null,
   "metadata": {},
   "outputs": [],
   "source": [
    "#\n",
    "# Save model\n",
    "#\n",
    "# v1: 20190329, trained on len(replay_memory) = 294912\n",
    "#aero_cnn.save(\"Aero_CNN_v1\")"
   ]
  },
  {
   "cell_type": "code",
   "execution_count": null,
   "metadata": {},
   "outputs": [],
   "source": []
  },
  {
   "cell_type": "markdown",
   "metadata": {},
   "source": [
    "## Backup"
   ]
  },
  {
   "cell_type": "code",
   "execution_count": null,
   "metadata": {},
   "outputs": [],
   "source": [
    "#\n",
    "# Create the moves dictionary\n",
    "#\n",
    "moves = {}\n",
    "\n",
    "for i in range(1, 143):\n",
    "    old_row, old_column, old_direction = process_move_142(i)\n",
    "    \n",
    "    start_row = old_row - 1\n",
    "    start_col = old_column - 1\n",
    "    \n",
    "    if (old_direction == \"down\"):\n",
    "        end_row = start_row + 1\n",
    "        end_col = start_col\n",
    "    elif (old_direction == \"up\"):\n",
    "        end_row = start_row - 1\n",
    "        end_col = start_col\n",
    "    elif (old_direction == \"right\"):\n",
    "        end_row = start_row\n",
    "        end_col = start_col + 1\n",
    "    else:\n",
    "        end_row = start_row\n",
    "        end_col = start_col - 1\n",
    "        \n",
    "    moves[i] = ((start_row, start_col), (end_row, end_col))\n",
    "    \n",
    "print(moves)"
   ]
  }
 ],
 "metadata": {
  "kernelspec": {
   "display_name": "Python 3",
   "language": "python",
   "name": "python3"
  },
  "language_info": {
   "codemirror_mode": {
    "name": "ipython",
    "version": 3
   },
   "file_extension": ".py",
   "mimetype": "text/x-python",
   "name": "python",
   "nbconvert_exporter": "python",
   "pygments_lexer": "ipython3",
   "version": "3.8.5"
  }
 },
 "nbformat": 4,
 "nbformat_minor": 2
}
