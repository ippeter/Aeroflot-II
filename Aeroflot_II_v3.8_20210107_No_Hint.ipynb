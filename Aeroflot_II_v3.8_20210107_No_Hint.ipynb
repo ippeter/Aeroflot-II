{
 "cells": [
  {
   "cell_type": "markdown",
   "metadata": {},
   "source": [
    "## Use bonus plates (length of 4)\n",
    "## Important notes:\n",
    "### - new color model: number of channels = 4, one channel for each color  \n",
    "### - plate value encoded with a number: 0.1, 0.4, 1.0  \n",
    "### - v3.2: all helpers moved to external module\n",
    "### - v3.2: hint restored: s_before is now field after 'make_move'\n",
    "### - v3.3: debugging CNN since learning doesn't work\n",
    "### - v3.4: try bigger CNN \n",
    "### - v3.5: problem found. Large space of moves just doesn't work. Reduce to 1"
   ]
  },
  {
   "cell_type": "code",
   "execution_count": 10,
   "metadata": {},
   "outputs": [
    {
     "name": "stdout",
     "output_type": "stream",
     "text": [
      "Populating the interactive namespace from numpy and matplotlib\n"
     ]
    }
   ],
   "source": [
    "# Needed for tests and a real game against the phone\n",
    "#import pandas as pd\n",
    "#import qgrid\n",
    "\n",
    "import random as rd\n",
    "import numpy as np\n",
    "import tensorflow as tf\n",
    "\n",
    "from collections import deque\n",
    "\n",
    "import environment as ae\n",
    "\n",
    "%pylab inline"
   ]
  },
  {
   "cell_type": "markdown",
   "metadata": {},
   "source": [
    "## Constants"
   ]
  },
  {
   "cell_type": "code",
   "execution_count": 11,
   "metadata": {},
   "outputs": [],
   "source": [
    "# CNN\n",
    "LEARNING_RATE = 0.001\n",
    "DYNAMIC_LEARNING_EPOCHS = 5\n",
    "MINIBATCH_SIZE = 128\n",
    "UPDATE_TARGET_NET = 1000\n",
    "GAMMA = 0.95\n",
    "REWARD_SCALER = 100.\n",
    "\n",
    "# Definitions\n",
    "GAMES_TO_PLAY = 131072\n",
    "REPLAY_MEMORY_SIZE = 8192\n",
    "NUMBER_OF_MOVES_IN_GAME = 50\n",
    "\n",
    "# Variables\n",
    "MAXIMUM_SCORE = 0\n",
    "CNN_MOVE_PROB = 0.1\n",
    "CNN_MOVES_COUNT = 0\n",
    "CNN_SUCCESSFUL_PREDICTION = 0\n",
    "AGG_GAMES_NUMBER = 10\n",
    "TOTAL_SCORE_AGG = 0.0\n",
    "TOTAL_SUCCESSFUL_MOVES_AGG = 0.0"
   ]
  },
  {
   "cell_type": "markdown",
   "metadata": {},
   "source": [
    "### Replay Memory Buffer"
   ]
  },
  {
   "cell_type": "code",
   "execution_count": 12,
   "metadata": {},
   "outputs": [],
   "source": [
    "#\n",
    "# Replay memory buffer\n",
    "#\n",
    "class ExperienceBuffer():\n",
    "    '''\n",
    "    Experience Replay Buffer\n",
    "    Inspired by Andrea Lonza\n",
    "    '''\n",
    "\n",
    "    def __init__(self, buffer_size, gamma):\n",
    "        # Constants\n",
    "        self.gamma = gamma\n",
    "        \n",
    "        # Main Replay Memory buffer parts\n",
    "        self.states_before = deque(maxlen=buffer_size)\n",
    "        self.actions = deque(maxlen=buffer_size)\n",
    "        self.total_rewards = deque(maxlen=buffer_size)\n",
    "        self.states_after = deque(maxlen=buffer_size)\n",
    "        self.last_moves = deque(maxlen=buffer_size)\n",
    "   \n",
    "    \n",
    "    def add(self, state_before, action, reward, state_after, last_move):\n",
    "        # Add certain items to corresponding buffers\n",
    "        self.states_before.append(state_before)\n",
    "        self.actions.append(action)\n",
    "        self.total_rewards.append(reward)\n",
    "        self.states_after.append(state_after)\n",
    "        self.last_moves.append(last_move)\n",
    "    \n",
    "    \n",
    "    def sample_minibatch(self, minibatch_size):\n",
    "        '''\n",
    "        Sample a minibatch of size batch_size\n",
    "        Note1: always add the most recent completed move\n",
    "        '''\n",
    "        indices = rd.sample(range(len(self.states_before) - 1), minibatch_size - 1)\n",
    "        # Add the most recent completed move index\n",
    "        indices.append(len(self.states_before) - 1)\n",
    "        \n",
    "        minibatch_states_before = np.array([self.states_before[i] for i in indices]) \n",
    "        minibatch_actions = np.array([self.actions[i] for i in indices]) \n",
    "        minibatch_total_rewards = np.array([self.total_rewards[i] for i in indices]) \n",
    "        minibatch_states_after = np.array([self.states_after[i] for i in indices])  \n",
    "        minibatch_last_moves = np.array([self.last_moves[i] for i in indices])   \n",
    "        \n",
    "        return minibatch_states_before, minibatch_actions, minibatch_total_rewards, minibatch_states_after, minibatch_last_moves\n",
    "    \n",
    "    \n",
    "    def __len__(self):\n",
    "        '''\n",
    "        Return length of the current replay memory buffer\n",
    "        Relevant for the first *minibatch_size* moves.\n",
    "        '''\n",
    "        return len(self.states_before)\n",
    "    \n",
    "    \n",
    "    def max_rewards(self):\n",
    "        \"\"\"\n",
    "        Returns max reward in the current buffer\n",
    "        \"\"\"\n",
    "        maximum_value = 0\n",
    "        \n",
    "        for i in self.total_rewards:\n",
    "            if (i > maximum_value):\n",
    "                maximum_value = i\n",
    "                \n",
    "        return maximum_value\n",
    "    \n",
    "            \n",
    "    "
   ]
  },
  {
   "cell_type": "markdown",
   "metadata": {},
   "source": [
    "## Deep Q-Nework"
   ]
  },
  {
   "cell_type": "markdown",
   "metadata": {},
   "source": [
    "### Initialize Replay Buffer"
   ]
  },
  {
   "cell_type": "code",
   "execution_count": 13,
   "metadata": {},
   "outputs": [],
   "source": [
    "replay_memory = ExperienceBuffer(REPLAY_MEMORY_SIZE, GAMMA)"
   ]
  },
  {
   "cell_type": "markdown",
   "metadata": {},
   "source": [
    "### Initialize Online CNN and Target CNN"
   ]
  },
  {
   "cell_type": "code",
   "execution_count": 14,
   "metadata": {},
   "outputs": [],
   "source": [
    "tf.random.set_seed(8)\n",
    "\n",
    "# Initialize optimizer\n",
    "online_cnn_optimizer = tf.keras.optimizers.Adam(LEARNING_RATE)\n",
    "\n",
    "\n",
    "# Online CNN\n",
    "inputs = tf.keras.Input(shape=(7, 6, 4), batch_size=MINIBATCH_SIZE)\n",
    "\n",
    "x = tf.keras.layers.Conv2D(128, kernel_size=3, strides = (1, 1), padding='valid', activation=tf.nn.relu, data_format='channels_last', kernel_initializer='HeNormal')(inputs)\n",
    "x = tf.keras.layers.BatchNormalization()(x)\n",
    "\n",
    "x = tf.keras.layers.Conv2D(64, kernel_size=3, strides = (1, 1), padding='valid', activation=tf.nn.relu, data_format='channels_last', kernel_initializer='HeNormal')(x)\n",
    "x = tf.keras.layers.BatchNormalization()(x)\n",
    "\n",
    "x = tf.keras.layers.Flatten()(x)\n",
    "\n",
    "x = tf.keras.layers.Dense(64, activation=tf.nn.relu, kernel_initializer='HeNormal')(x)\n",
    "x = tf.keras.layers.BatchNormalization()(x)\n",
    "\n",
    "outputs = tf.keras.layers.Dense(ae.ACTIONS_DIMENSION, activation=tf.nn.softmax)(x)\n",
    "\n",
    "Online_CNN = tf.keras.Model(inputs=inputs, outputs=outputs)\n",
    "\n",
    "# Online CNN\n",
    "#Online_CNN = tf.keras.models.Sequential()\n",
    "#Online_CNN.add(tf.keras.layers.Conv2D(128, kernel_size=3, strides = (1, 1), padding='valid', activation=None, data_format='channels_last', kernel_initializer='HeNormal', input_shape=(7, 6, 4)))\n",
    "#Online_CNN.add(tf.keras.layers.Activation(\"relu\"))\n",
    "#Online_CNN.add(tf.keras.layers.BatchNormalization())\n",
    "\n",
    "#Online_CNN.add(tf.keras.layers.Conv2D(128, kernel_size=3, strides = (1, 1), padding='valid', activation=None, data_format='channels_last', kernel_initializer='HeNormal', input_shape=(7, 6, 4)))\n",
    "#Online_CNN.add(tf.keras.layers.Activation(\"relu\"))\n",
    "#Online_CNN.add(tf.keras.layers.BatchNormalization())\n",
    "\n",
    "#Online_CNN.add(tf.keras.layers.Flatten())        \n",
    "\n",
    "#Online_CNN.add(tf.keras.layers.Dense(64, activation=None, kernel_initializer='HeNormal'))\n",
    "#Online_CNN.add(tf.keras.layers.Activation(\"relu\"))\n",
    "#Online_CNN.add(tf.keras.layers.BatchNormalization())\n",
    "\n",
    "#Online_CNN.add(tf.keras.layers.Dense(ae.ACTIONS_DIMENSION, activation=None, kernel_initializer='HeNormal'))\n",
    "#Online_CNN.add(tf.keras.layers.Activation(\"softmax\"))\n",
    "\n",
    "\n",
    "#Online_CNN.compile(optimizer=online_cnn_optimizer, loss=\"mean_squared_error\")\n",
    "\n",
    "\n",
    "\n",
    "# Target CNN\n",
    "#Target_CNN = tf.keras.models.Sequential()\n",
    "#Target_CNN.add(tf.keras.layers.Conv2D(128, kernel_size=3, strides = (1, 1), padding='same', activation=tf.keras.activations.tanh, data_format = 'channels_last', kernel_initializer='RandomNormal', input_shape=(7, 6, 4)))\n",
    "#Target_CNN.add(tf.keras.layers.Conv2D(64, kernel_size=3, strides = (1, 1), padding='same', activation=tf.keras.activations.tanh, kernel_initializer='RandomNormal'))    \n",
    "#Target_CNN.add(tf.keras.layers.Flatten())                      \n",
    "#Target_CNN.add(tf.keras.layers.Dense(32, activation=tf.keras.activations.relu, kernel_initializer='RandomNormal'))\n",
    "#Target_CNN.add(tf.keras.layers.Dense(1, activation=tf.keras.activations.relu, kernel_initializer='RandomNormal'))\n",
    "\n",
    "#Target_CNN.compile(optimizer=online_cnn_optimizer, loss=\"mean_squared_error\")\n",
    "\n",
    "\n",
    "# Set weights equal\n",
    "#Target_CNN.set_weights(Online_CNN.get_weights())\n",
    "\n",
    "# Just to see how many trainable parameters\n",
    "#Online_CNN.summary()"
   ]
  },
  {
   "cell_type": "code",
   "execution_count": 15,
   "metadata": {},
   "outputs": [],
   "source": [
    "def loss(model, X, y_true, A):\n",
    "    prediction = model(X)\n",
    "    selected_action_values = tf.math.reduce_sum(prediction*A, axis=1)  \n",
    "    return tf.keras.losses.MSE(y_true, selected_action_values)\n",
    "\n",
    "\n",
    "def grad(model, inputs, targets, actions):\n",
    "    with tf.GradientTape() as tape:\n",
    "        loss_value = loss(model, inputs, targets, actions)\n",
    "    return loss_value, tape.gradient(loss_value, model.trainable_variables)"
   ]
  },
  {
   "cell_type": "markdown",
   "metadata": {},
   "source": [
    "## Dynamic Learning"
   ]
  },
  {
   "cell_type": "code",
   "execution_count": 16,
   "metadata": {
    "scrolled": true
   },
   "outputs": [
    {
     "name": "stdout",
     "output_type": "stream",
     "text": [
      "New game\n",
      "New maximum: 36, after 0 games.\n",
      "New game\n",
      "New game\n",
      "New maximum: 71, after 2 games.\n",
      "New game\n",
      "New game\n",
      "CPU times: user 23.7 s, sys: 948 ms, total: 24.6 s\n",
      "Wall time: 19.8 s\n"
     ]
    }
   ],
   "source": [
    "%%time\n",
    "\n",
    "FOUND = False\n",
    "\n",
    "# Number of moves made to follow the target CNN update strategy\n",
    "total_moves = 1\n",
    "                                                      \n",
    "for game in range(5): #GAMES_TO_PLAY):\n",
    "    # Start one game\n",
    "    game_score = 0\n",
    "    successful_moves = 0\n",
    "    \n",
    "    print(\"New game\")\n",
    "\n",
    "    # Initialize the game field\n",
    "    field = np.zeros((7, 6, 4))\n",
    "    field = ae.initialize_field_3D(field)\n",
    "\n",
    "    for m in range(NUMBER_OF_MOVES_IN_GAME):\n",
    "        # Total score of one move\n",
    "        reward = 0\n",
    "\n",
    "        # Whether CNN made the move\n",
    "        cnn_made_move_flag = False\n",
    "        \n",
    "        # If replay_memory has less than 64 moves, then make a random move\n",
    "        if ((len(replay_memory) < MINIBATCH_SIZE) or (rd.random() > CNN_MOVE_PROB)):\n",
    "            move = rd.randint(1, ae.ACTIONS_DIMENSION)\n",
    "        else:\n",
    "            # CNN selects a move\n",
    "            cnn_made_move_flag = True\n",
    "            CNN_MOVES_COUNT = CNN_MOVES_COUNT + 1\n",
    "            #\n",
    "            # Predict the move using the hint\n",
    "            #\n",
    "            #_, move = ae.predict_max_score_3D(field.copy(), Target_CNN, ae.ACTIONS_DIMENSION, ae.MOVES)\n",
    "            #_, move = ae.predict_max_score_3D(field.copy(), Online_CNN, ae.ACTIONS_DIMENSION, ae.MOVES)\n",
    "            #\n",
    "            # Predict the move without the hint\n",
    "            #\n",
    "            move = np.argmax(Online_CNN(np.expand_dims(field.copy(), axis=0))) + 1\n",
    "            \n",
    "        # Make the move\n",
    "        new_field, plate_a, plate_b = ae.make_move_v2_3D(field.copy(), move, ae.MOVES)\n",
    "        field_after_move = new_field.copy()\n",
    "\n",
    "        # Calculate the score and update the field\n",
    "        score, new_field = ae.calculate_score_v2_3D(new_field, plate_a, plate_b)\n",
    "        \n",
    "        # If the move is successful, then update the field and check if we have new sets        \n",
    "        successful_move_flag = False\n",
    "\n",
    "        # While we have new sets (thus the score is greater than 0), process them, calculate score and move plates\n",
    "        while (score > 0.):\n",
    "            if (not successful_move_flag):\n",
    "                successful_moves = successful_moves + 1\n",
    "                successful_move_flag = True\n",
    "\n",
    "            # Add new points to the total score of the move\n",
    "            reward = reward + score\n",
    "\n",
    "            # Move plates downward, fill the upper row so, that it doesn't have \"easy\" sets of three\n",
    "            # Start from the left lower corner (in order to reuse color_fits())\n",
    "            new_field = ae.fill_field_3D(new_field)\n",
    "\n",
    "            # Calculate score and check whether we have new sets\n",
    "            score, new_field = ae.calculate_score_v2_3D(new_field, (-1, -1), (-1, -1))\n",
    "\n",
    "        # Increase the score of the whole game\n",
    "        game_score = game_score + reward\n",
    "        \n",
    "        # Check whether it's the last move of the current game\n",
    "        last_move = m == NUMBER_OF_MOVES_IN_GAME - 1         \n",
    "\n",
    "        # Add new move to the replay memory\n",
    "        if (successful_move_flag):\n",
    "            replay_memory.add(field, move, reward / REWARD_SCALER, new_field, last_move)\n",
    "            \n",
    "            # Update CNN move statistics\n",
    "            if (cnn_made_move_flag):    \n",
    "                CNN_SUCCESSFUL_PREDICTION = CNN_SUCCESSFUL_PREDICTION + 1               \n",
    "                \n",
    "        else:\n",
    "            replay_memory.add(field, move, 0, field, last_move)   \n",
    "        \n",
    "        #\n",
    "        # Train CNN based on the score\n",
    "        #\n",
    "        if (len(replay_memory) >= MINIBATCH_SIZE):\n",
    "            # Select random MINIBATCH_SIZE moves from replay memory buffer\n",
    "            samples = replay_memory.sample_minibatch(MINIBATCH_SIZE)\n",
    "\n",
    "            # Prepare some things for training\n",
    "            s_before = samples[0]\n",
    "            actions = samples[1]\n",
    "            rewards = samples[2]\n",
    "            s_after = samples[3] \n",
    "            dones = samples[4]\n",
    "            \n",
    "            # Carefully predict next rewards: we must use predict_max_score\n",
    "            rewards_next = np.zeros((MINIBATCH_SIZE))\n",
    "            \n",
    "            for item in range(MINIBATCH_SIZE):\n",
    "                # Calculate future rewards ONLY if current reward is NOT zero, otherwise no sense\n",
    "                if (rewards[item] > 0):\n",
    "                    #\n",
    "                    # Predict the move using the hint\n",
    "                    #\n",
    "                    #rewards_next[item], _ = ae.predict_max_score_3D(s_after[item], Target_CNN, ae.ACTIONS_DIMENSION, ae.MOVES)\n",
    "                    #rewards_next[item], _ = ae.predict_max_score_3D(s_after[item], Online_CNN, ae.ACTIONS_DIMENSION, ae.MOVES)\n",
    "                    #\n",
    "                    # Predict the move without the hint\n",
    "                    #\n",
    "                    rewards_next[item] = np.max(Online_CNN(np.expand_dims(s_after[item], axis=0)))\n",
    "                    \n",
    "            #\n",
    "            # Update online CNN weights: training step\n",
    "            #\n",
    "            actual_values = np.where(dones, rewards, rewards + GAMMA*rewards_next)\n",
    "            \n",
    "            selected_actions = tf.one_hot(actions - 1, ae.ACTIONS_DIMENSION)\n",
    "            \n",
    "            for _ in range(DYNAMIC_LEARNING_EPOCHS):             \n",
    "                loss_value, grads = grad(Online_CNN, s_before, actual_values, selected_actions)\n",
    "                online_cnn_optimizer.apply_gradients(zip(grads, Online_CNN.trainable_variables))\n",
    "                \n",
    "                #if (game % AGG_GAMES_NUMBER == 0):\n",
    "                #    print(loss_value)\n",
    "            \n",
    "            #\n",
    "            # This method is unstable: I couldn't make it work regularly\n",
    "            #\n",
    "            #history = Online_CNN.fit(x=s_before, y=actual_values, epochs=DYNAMIC_LEARNING_EPOCHS, verbose=0)\n",
    "            #loss_value = history.history[\"loss\"]\n",
    "            \n",
    "            # DEBUG: Trying to find a reason of NaN\n",
    "            for layer in Online_CNN.layers:\n",
    "                weights = layer.get_weights()\n",
    "                for w in weights:\n",
    "                    if (np.isnan(w).sum() > 0):\n",
    "                        FOUND = True\n",
    "                        break\n",
    "                if (FOUND):\n",
    "                    break\n",
    "                    \n",
    "        if (FOUND):\n",
    "            print(\"NaN value found!\")\n",
    "            break\n",
    "\n",
    "        # If move is successful, update the play field\n",
    "        if (successful_move_flag):\n",
    "            field = np.copy(new_field)\n",
    "            \n",
    "        # After each UPDATE_TARGET_NET moves update target CNN\n",
    "        #if (total_moves % UPDATE_TARGET_NET == 0):\n",
    "        #    Target_CNN.set_weights(Online_CNN.get_weights())\n",
    "            \n",
    "        total_moves = total_moves + 1\n",
    "\n",
    "    if (FOUND):\n",
    "        break\n",
    "        \n",
    "    #\n",
    "    # Calculate and display overall stats\n",
    "    #\n",
    "    # Check whether we have new maximum score\n",
    "    if (game_score > MAXIMUM_SCORE):\n",
    "        print(f\"New maximum: {game_score}, after {game} games.\")\n",
    "        MAXIMUM_SCORE = game_score\n",
    "        \n",
    "    # After each AGG_GAMES_NUMBER games output average game score, average number of successful moves per game\n",
    "    TOTAL_SCORE_AGG = TOTAL_SCORE_AGG + game_score\n",
    "    TOTAL_SUCCESSFUL_MOVES_AGG = TOTAL_SUCCESSFUL_MOVES_AGG + successful_moves\n",
    "    \n",
    "    if ((game % AGG_GAMES_NUMBER == 0) and (game > 0)):\n",
    "        avg_score = TOTAL_SCORE_AGG / AGG_GAMES_NUMBER\n",
    "        TOTAL_SCORE_AGG = 0.0\n",
    "        \n",
    "        avg_succ_moves = TOTAL_SUCCESSFUL_MOVES_AGG / AGG_GAMES_NUMBER\n",
    "        TOTAL_SUCCESSFUL_MOVES_AGG = 0.0\n",
    "\n",
    "        print(f\"Games: {game}, last {AGG_GAMES_NUMBER} games avg score: {avg_score}, avg of succ moves: {avg_succ_moves}\")        \n",
    "        print(f\"CNN made {CNN_MOVES_COUNT} moves. Successful were {CNN_SUCCESSFUL_PREDICTION}\")\n",
    "        print(f\"rewards_next is {rewards_next.sum()}\")\n",
    "        \n",
    "        if (CNN_SUCCESSFUL_PREDICTION / CNN_MOVES_COUNT >= CNN_MOVE_PROB):\n",
    "            CNN_MOVE_PROB = CNN_MOVE_PROB + 0.1\n",
    "            \n",
    "        CNN_MOVES_COUNT = 0\n",
    "        CNN_SUCCESSFUL_PREDICTION = 0\n"
   ]
  },
  {
   "cell_type": "code",
   "execution_count": 17,
   "metadata": {},
   "outputs": [
    {
     "data": {
      "text/plain": [
       "array([0.  , 0.  , 0.  , 0.03, 0.  , 0.  , 0.03, 0.  , 0.  , 0.  , 0.03,\n",
       "       0.  , 0.  , 0.  , 0.  , 0.  , 0.03, 0.  , 0.  , 0.  , 0.  , 0.06,\n",
       "       0.03, 0.  , 0.  , 0.  , 0.03, 0.03, 0.  , 0.  , 0.  , 0.  , 0.  ,\n",
       "       0.03, 0.03, 0.  , 0.  , 0.  , 0.05, 0.03, 0.  , 0.03, 0.  , 0.  ,\n",
       "       0.04, 0.  , 0.  , 0.  , 0.  , 0.  , 0.  , 0.  , 0.  , 0.03, 0.  ,\n",
       "       0.  , 0.  , 0.  , 0.  , 0.  , 0.  , 0.  , 0.  , 0.  , 0.  , 0.05,\n",
       "       0.03, 0.  , 0.  , 0.14, 0.  , 0.  , 0.  , 0.03, 0.  , 0.  , 0.  ,\n",
       "       0.  , 0.  , 0.  , 0.  , 0.  , 0.  , 0.  , 0.  , 0.  , 0.  , 0.  ,\n",
       "       0.  , 0.  , 0.  , 0.  , 0.03, 0.  , 0.1 , 0.  , 0.  , 0.03, 0.03,\n",
       "       0.  , 0.  , 0.06, 0.09, 0.  , 0.  , 0.  , 0.  , 0.  , 0.  , 0.  ,\n",
       "       0.  , 0.  , 0.  , 0.  , 0.  , 0.03, 0.03, 0.03, 0.  , 0.  , 0.1 ,\n",
       "       0.03, 0.  , 0.  , 0.  , 0.  , 0.  , 0.  ])"
      ]
     },
     "execution_count": 17,
     "metadata": {},
     "output_type": "execute_result"
    }
   ],
   "source": [
    "rewards"
   ]
  },
  {
   "cell_type": "code",
   "execution_count": 18,
   "metadata": {
    "scrolled": true
   },
   "outputs": [
    {
     "data": {
      "image/png": "[encoded data removed]",
      "text/plain": [
       "<Figure size 360x504 with 1 Axes>"
      ]
     },
     "metadata": {
      "needs_background": "light"
     },
     "output_type": "display_data"
    }
   ],
   "source": [
    "ae.visualize_field_3D(s_before[3])"
   ]
  },
  {
   "cell_type": "code",
   "execution_count": 23,
   "metadata": {},
   "outputs": [
    {
     "data": {
      "text/plain": [
       "((1, 3), (2, 3))"
      ]
     },
     "execution_count": 23,
     "metadata": {},
     "output_type": "execute_result"
    }
   ],
   "source": [
    "ae.MOVES[13]"
   ]
  },
  {
   "cell_type": "code",
   "execution_count": 40,
   "metadata": {},
   "outputs": [
    {
     "name": "stdout",
     "output_type": "stream",
     "text": [
      "0.000123031\n",
      "0.00013559662\n",
      "0.00015397434\n",
      "0.00016784354\n",
      "0.00017199114\n"
     ]
    }
   ],
   "source": [
    "for _ in range(DYNAMIC_LEARNING_EPOCHS):             \n",
    "    loss_value, grads = grad(Online_CNN, s_before, actual_values, selected_actions)\n",
    "    online_cnn_optimizer.apply_gradients(zip(grads, Online_CNN.trainable_variables))\n",
    "    print(loss_value.numpy())"
   ]
  },
  {
   "cell_type": "code",
   "execution_count": 43,
   "metadata": {
    "scrolled": true
   },
   "outputs": [
    {
     "data": {
      "text/plain": [
       "0.71655905"
      ]
     },
     "execution_count": 43,
     "metadata": {},
     "output_type": "execute_result"
    }
   ],
   "source": [
    "np.max(Online_CNN(np.expand_dims(s_before[3], axis=0)))"
   ]
  },
  {
   "cell_type": "code",
   "execution_count": null,
   "metadata": {},
   "outputs": [],
   "source": [
    "rewards[0]"
   ]
  },
  {
   "cell_type": "code",
   "execution_count": null,
   "metadata": {},
   "outputs": [],
   "source": [
    "selected_actions[0]"
   ]
  },
  {
   "cell_type": "code",
   "execution_count": null,
   "metadata": {},
   "outputs": [],
   "source": [
    "prediction = Online_CNN(s_before)\n",
    "A = tf.one_hot(actions - 1, ae.ACTIONS_DIMENSION)\n",
    "\n",
    "selected_action_values = tf.math.reduce_sum(prediction*A, axis=1)  \n",
    "print(selected_action_values[0])"
   ]
  },
  {
   "cell_type": "code",
   "execution_count": null,
   "metadata": {},
   "outputs": [],
   "source": [
    "prediction[0]"
   ]
  },
  {
   "cell_type": "code",
   "execution_count": null,
   "metadata": {},
   "outputs": [],
   "source": [
    "rewards"
   ]
  },
  {
   "cell_type": "code",
   "execution_count": null,
   "metadata": {},
   "outputs": [],
   "source": [
    "replay_memory.max_rewards()"
   ]
  },
  {
   "cell_type": "code",
   "execution_count": null,
   "metadata": {},
   "outputs": [],
   "source": [
    "np.where(dones, rewards, rewards + GAMMA*rewards_next)"
   ]
  },
  {
   "cell_type": "code",
   "execution_count": null,
   "metadata": {},
   "outputs": [],
   "source": [
    "Online_CNN.predict(np.expand_dims(s_before[1], axis=0))"
   ]
  },
  {
   "cell_type": "code",
   "execution_count": null,
   "metadata": {},
   "outputs": [],
   "source": [
    "np.isnan(s_before).sum()"
   ]
  },
  {
   "cell_type": "code",
   "execution_count": null,
   "metadata": {
    "scrolled": true
   },
   "outputs": [],
   "source": [
    "for layer in Online_CNN.layers:\n",
    "    weights = layer.get_weights()\n",
    "    print(weights)"
   ]
  },
  {
   "cell_type": "code",
   "execution_count": null,
   "metadata": {},
   "outputs": [],
   "source": [
    "m = 0\n",
    "\n",
    "for i in replay_memory:\n",
    "    if (i[2] > m):\n",
    "        m = i[2]\n",
    "        \n",
    "print(m)"
   ]
  },
  {
   "cell_type": "markdown",
   "metadata": {},
   "source": [
    "## Debuggin the Hint"
   ]
  },
  {
   "cell_type": "code",
   "execution_count": null,
   "metadata": {},
   "outputs": [],
   "source": [
    "# Total score of one move\n",
    "reward = 0\n",
    "\n",
    "# Whether CNN made the move\n",
    "cnn_made_move_flag = False\n",
    "\n",
    "# If replay_memory has less than 64 moves, then make a random move\n",
    "if ((len(replay_memory) < MINIBATCH_SIZE) or (rd.random() > CNN_MOVE_PROB)):\n",
    "    move = rd.randint(1, ae.ACTIONS_DIMENSION)\n",
    "else:\n",
    "    # CNN selects a move\n",
    "    cnn_made_move_flag = True\n",
    "    CNN_MOVES_COUNT = CNN_MOVES_COUNT + 1\n",
    "    scr, move = ae.predict_max_score_3D(field.copy(), Target_CNN, ae.ACTIONS_DIMENSION, ae.MOVES)\n",
    "    print(f\"Predicted move {move} with score of {scr}\")"
   ]
  },
  {
   "cell_type": "code",
   "execution_count": null,
   "metadata": {},
   "outputs": [],
   "source": [
    "# Make the move\n",
    "new_field, plate_a, plate_b = ae.make_move_v2_3D(field.copy(), move, ae.MOVES)\n",
    "field_after_move = new_field.copy()\n",
    "\n",
    "# Calculate the score and update the field\n",
    "score, new_field = ae.calculate_score_v2_3D(new_field, plate_a, plate_b)\n",
    "\n",
    "# If the move is successful, then update the field and check if we have new sets        \n",
    "successful_move_flag = False\n",
    "\n",
    "# While we have new sets (thus the score is greater than 0), process them, calculate score and move plates\n",
    "while (score > 0.):\n",
    "    if (not successful_move_flag):\n",
    "        successful_moves = successful_moves + 1\n",
    "        successful_move_flag = True\n",
    "\n",
    "    # Add new points to the total score of the move\n",
    "    reward = reward + score\n",
    "\n",
    "    # Move plates downward, fill the upper row so, that it doesn't have \"easy\" sets of three\n",
    "    # Start from the left lower corner (in order to reuse color_fits())\n",
    "    new_field = ae.fill_field_3D(new_field)\n",
    "\n",
    "    # Calculate score and check whether we have new sets\n",
    "    score, new_field = ae.calculate_score_v2_3D(new_field, (-1, -1), (-1, -1))\n",
    "\n",
    "print(reward)\n"
   ]
  },
  {
   "cell_type": "code",
   "execution_count": null,
   "metadata": {},
   "outputs": [],
   "source": [
    "\n",
    "#\n",
    "# Train CNN based on the score\n",
    "#\n",
    "\n",
    "samples = replay_memory.sample_minibatch(MINIBATCH_SIZE)\n",
    "\n",
    "# Prepare some things for training\n",
    "s_before = samples[0]\n",
    "actions = samples[1]\n",
    "rewards = samples[2]\n",
    "s_after = samples[3] \n",
    "dones = samples[4]\n"
   ]
  },
  {
   "cell_type": "code",
   "execution_count": null,
   "metadata": {},
   "outputs": [],
   "source": [
    "def loss(model, X, y_true, A):\n",
    "    prediction = model(X)\n",
    "    selected_action_values = tf.math.reduce_sum(prediction*A, axis=1)  \n",
    "    return tf.keras.losses.MSE(y_true, selected_action_values)\n",
    "\n",
    "\n",
    "def grad(model, inputs, targets, actions):\n",
    "    with tf.GradientTape() as tape:\n",
    "        loss_value = loss(model, inputs, targets, actions)\n",
    "    return loss_value, tape.gradient(loss_value, model.trainable_variables)"
   ]
  },
  {
   "cell_type": "code",
   "execution_count": null,
   "metadata": {},
   "outputs": [],
   "source": [
    "rewards_next = np.max(Target_CNN(s_after), axis=1)\n",
    "actual_values = np.where(dones, rewards, rewards + GAMMA*rewards_next)\n",
    "selected_actions = tf.one_hot(actions, ae.ACTIONS_DIMENSION)"
   ]
  },
  {
   "cell_type": "code",
   "execution_count": null,
   "metadata": {},
   "outputs": [],
   "source": [
    "loss_value, grads = grad(Online_CNN, s_before, actual_values, selected_actions)\n",
    "\n",
    "print(\"Step: {}, Initial Loss: {}\".format(optimizer.iterations.numpy(), loss_value.numpy()))\n",
    "\n",
    "optimizer.apply_gradients(zip(grads, Online_CNN.trainable_variables))\n",
    "\n",
    "print(\"Step: {}, Loss: {}\".format(optimizer.iterations.numpy(), loss(Online_CNN, s_before, actual_values, selected_actions).numpy()))"
   ]
  },
  {
   "cell_type": "code",
   "execution_count": null,
   "metadata": {},
   "outputs": [],
   "source": []
  },
  {
   "cell_type": "code",
   "execution_count": null,
   "metadata": {
    "scrolled": false
   },
   "outputs": [],
   "source": []
  },
  {
   "cell_type": "code",
   "execution_count": null,
   "metadata": {},
   "outputs": [],
   "source": []
  },
  {
   "cell_type": "code",
   "execution_count": null,
   "metadata": {},
   "outputs": [],
   "source": []
  },
  {
   "cell_type": "code",
   "execution_count": null,
   "metadata": {},
   "outputs": [],
   "source": []
  },
  {
   "cell_type": "code",
   "execution_count": null,
   "metadata": {},
   "outputs": [],
   "source": []
  },
  {
   "cell_type": "code",
   "execution_count": null,
   "metadata": {},
   "outputs": [],
   "source": []
  },
  {
   "cell_type": "code",
   "execution_count": null,
   "metadata": {},
   "outputs": [],
   "source": []
  },
  {
   "cell_type": "code",
   "execution_count": null,
   "metadata": {},
   "outputs": [],
   "source": []
  },
  {
   "cell_type": "code",
   "execution_count": null,
   "metadata": {},
   "outputs": [],
   "source": []
  },
  {
   "cell_type": "code",
   "execution_count": null,
   "metadata": {},
   "outputs": [],
   "source": []
  },
  {
   "cell_type": "code",
   "execution_count": null,
   "metadata": {},
   "outputs": [],
   "source": []
  },
  {
   "cell_type": "code",
   "execution_count": null,
   "metadata": {},
   "outputs": [],
   "source": []
  },
  {
   "cell_type": "code",
   "execution_count": null,
   "metadata": {
    "scrolled": true
   },
   "outputs": [],
   "source": []
  },
  {
   "cell_type": "code",
   "execution_count": null,
   "metadata": {},
   "outputs": [],
   "source": []
  },
  {
   "cell_type": "code",
   "execution_count": null,
   "metadata": {},
   "outputs": [],
   "source": []
  },
  {
   "cell_type": "markdown",
   "metadata": {},
   "source": [
    "### Now the CNN has been trained.\n",
    "### Start the long reinforcement-learning cycle"
   ]
  },
  {
   "cell_type": "code",
   "execution_count": null,
   "metadata": {},
   "outputs": [],
   "source": []
  },
  {
   "cell_type": "code",
   "execution_count": null,
   "metadata": {},
   "outputs": [],
   "source": []
  },
  {
   "cell_type": "code",
   "execution_count": null,
   "metadata": {},
   "outputs": [],
   "source": []
  },
  {
   "cell_type": "code",
   "execution_count": null,
   "metadata": {
    "scrolled": true
   },
   "outputs": [],
   "source": [
    "successful_moves"
   ]
  },
  {
   "cell_type": "code",
   "execution_count": null,
   "metadata": {},
   "outputs": [],
   "source": [
    "new_field = make_move(field, move)\n",
    "print(new_field)"
   ]
  },
  {
   "cell_type": "code",
   "execution_count": null,
   "metadata": {},
   "outputs": [],
   "source": [
    "temp_field = calculate_score(new_field)"
   ]
  },
  {
   "cell_type": "code",
   "execution_count": null,
   "metadata": {},
   "outputs": [],
   "source": [
    "new_field = np.multiply(new_field, 1.0 - temp_field)"
   ]
  },
  {
   "cell_type": "code",
   "execution_count": null,
   "metadata": {},
   "outputs": [],
   "source": [
    "fill_field(new_field, colors)"
   ]
  },
  {
   "cell_type": "code",
   "execution_count": null,
   "metadata": {},
   "outputs": [],
   "source": []
  },
  {
   "cell_type": "code",
   "execution_count": null,
   "metadata": {},
   "outputs": [],
   "source": [
    "#\n",
    "# Save model\n",
    "#\n",
    "# v1: 20190329, trained on len(replay_memory) = 294912\n",
    "#aero_cnn.save(\"Aero_CNN_v1\")"
   ]
  },
  {
   "cell_type": "code",
   "execution_count": null,
   "metadata": {},
   "outputs": [],
   "source": []
  },
  {
   "cell_type": "markdown",
   "metadata": {},
   "source": [
    "## Backup"
   ]
  },
  {
   "cell_type": "code",
   "execution_count": null,
   "metadata": {},
   "outputs": [],
   "source": [
    "#\n",
    "# Create the moves dictionary\n",
    "#\n",
    "moves = {}\n",
    "\n",
    "for i in range(1, 143):\n",
    "    old_row, old_column, old_direction = process_move_142(i)\n",
    "    \n",
    "    start_row = old_row - 1\n",
    "    start_col = old_column - 1\n",
    "    \n",
    "    if (old_direction == \"down\"):\n",
    "        end_row = start_row + 1\n",
    "        end_col = start_col\n",
    "    elif (old_direction == \"up\"):\n",
    "        end_row = start_row - 1\n",
    "        end_col = start_col\n",
    "    elif (old_direction == \"right\"):\n",
    "        end_row = start_row\n",
    "        end_col = start_col + 1\n",
    "    else:\n",
    "        end_row = start_row\n",
    "        end_col = start_col - 1\n",
    "        \n",
    "    moves[i] = ((start_row, start_col), (end_row, end_col))\n",
    "    \n",
    "print(moves)"
   ]
  }
 ],
 "metadata": {
  "kernelspec": {
   "display_name": "Python 3",
   "language": "python",
   "name": "python3"
  },
  "language_info": {
   "codemirror_mode": {
    "name": "ipython",
    "version": 3
   },
   "file_extension": ".py",
   "mimetype": "text/x-python",
   "name": "python",
   "nbconvert_exporter": "python",
   "pygments_lexer": "ipython3",
   "version": "3.8.3"
  }
 },
 "nbformat": 4,
 "nbformat_minor": 2
}
