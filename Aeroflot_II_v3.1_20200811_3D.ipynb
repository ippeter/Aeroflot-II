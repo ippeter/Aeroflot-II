{
 "cells": [
  {
   "cell_type": "markdown",
   "metadata": {},
   "source": [
    "## Use bonus plates (length of 4)\n",
    "## Important notes:\n",
    "### - new color model: number of channels = 4, one channel for each color  \n",
    "### - plate value encoded with a number: 0.1, 0.4, 1.0  "
   ]
  },
  {
   "cell_type": "code",
   "execution_count": 58,
   "metadata": {},
   "outputs": [],
   "source": [
    "import pandas as pd\n",
    "import random as rd\n",
    "import numpy as np\n",
    "#import qgrid\n",
    "\n",
    "import tensorflow as tf\n",
    "import environment as ae\n",
    "\n",
    "from collections import deque\n",
    "\n",
    "#import matplotlib.pyplot as plt\n",
    "#import matplotlib.patches as mpatches\n",
    "#%pylab inline"
   ]
  },
  {
   "cell_type": "markdown",
   "metadata": {},
   "source": [
    "## Constants"
   ]
  },
  {
   "cell_type": "code",
   "execution_count": 59,
   "metadata": {},
   "outputs": [],
   "source": [
    "# CNN\n",
    "LEARNING_RATE = 0.005\n",
    "UPDATE_TARGET_NET = 1000\n",
    "\n",
    "# Definitions\n",
    "GAMES_TO_PLAY = 131072\n",
    "REPLAY_MEMORY_SIZE = 131072\n",
    "DYNAMIC_LEARNING_EPOCHS = 5\n",
    "MINIBATCH_SIZE = 64\n",
    "NUMBER_OF_MOVES_IN_GAME = 50\n",
    "GAMMA = 0.99\n",
    "ACTIONS_DIMENSION = 142\n",
    "\n",
    "# Variables\n",
    "MAXIMUM_SCORE = 0\n",
    "TOTAL_SCORE_500 = 0.0\n",
    "AVG_SCORE_HIST = []\n",
    "TOTAL_SUCCESSFUL_MOVES_500 = 0.0\n",
    "AVG_SUCC_MOVES_HIST = []\n",
    "CNN_MOVE_PROB = 0.1\n",
    "CNN_MOVES_COUNT = 0\n",
    "CNN_SUCCESSFUL_PREDICTION = 0\n",
    "\n",
    "# Initialize replay_memory\n",
    "replay_memory = []"
   ]
  },
  {
   "cell_type": "markdown",
   "metadata": {},
   "source": [
    "### Replay Memory Buffer"
   ]
  },
  {
   "cell_type": "code",
   "execution_count": 60,
   "metadata": {},
   "outputs": [],
   "source": [
    "#\n",
    "# Replay memory buffer\n",
    "#\n",
    "class ExperienceBuffer():\n",
    "    '''\n",
    "    Experience Replay Buffer\n",
    "    Inspired by Andrea Lonza\n",
    "    '''\n",
    "\n",
    "    def __init__(self, buffer_size, gamma):\n",
    "        # Constants\n",
    "        self.gamma = gamma\n",
    "        \n",
    "        # Main Replay Memory buffer parts\n",
    "        self.states_before = deque(maxlen=buffer_size)\n",
    "        self.actions = deque(maxlen=buffer_size)\n",
    "        self.total_rewards = deque(maxlen=buffer_size)\n",
    "        self.states_after = deque(maxlen=buffer_size)\n",
    "        self.last_moves = deque(maxlen=buffer_size)\n",
    "   \n",
    "    \n",
    "    def add(self, state_before, action, reward, state_after, last_move):\n",
    "        # Add certain items to corresponding buffers\n",
    "        self.states_before.append(state_before)\n",
    "        self.actions.append(action)\n",
    "        self.total_rewards.append(reward)\n",
    "        self.states_after.append(state_after)\n",
    "        self.last_moves.append(last_move)\n",
    "    \n",
    "    \n",
    "    def sample_minibatch(self, minibatch_size):\n",
    "        '''\n",
    "        Sample a minibatch of size batch_size\n",
    "        Note1: always add the most recent completed move\n",
    "        '''\n",
    "        indices = rd.sample(range(len(self.states_before) - 1), minibatch_size - 1)\n",
    "        # Add the most recent completed move index\n",
    "        indices.append(len(self.states_before) - 1)\n",
    "        \n",
    "        minibatch_states_before = np.array([self.states_before[i] for i in indices]) \n",
    "        minibatch_actions = np.array([self.actions[i] for i in indices]) \n",
    "        minibatch_total_rewards = np.array([self.total_rewards[i] for i in indices]) \n",
    "        minibatch_states_after = np.array([self.states_after[i] for i in indices])  \n",
    "        minibatch_last_moves = np.array([self.last_moves[i] for i in indices])   \n",
    "        \n",
    "        return minibatch_states_before, minibatch_actions, minibatch_total_rewards, minibatch_states_after, minibatch_last_moves\n",
    "    \n",
    "    \n",
    "    def __len__(self):\n",
    "        '''\n",
    "        Return length of the current replay memory buffer\n",
    "        Relevant for the first *minibatch_size* moves.\n",
    "        '''\n",
    "        return len(self.states_before)\n",
    "    \n",
    "    "
   ]
  },
  {
   "cell_type": "markdown",
   "metadata": {},
   "source": [
    "## Deep Q-Nework"
   ]
  },
  {
   "cell_type": "markdown",
   "metadata": {},
   "source": [
    "### Initialize Replay Buffer"
   ]
  },
  {
   "cell_type": "code",
   "execution_count": 61,
   "metadata": {},
   "outputs": [],
   "source": [
    "replay_memory = ExperienceBuffer(REPLAY_MEMORY_SIZE, GAMMA)"
   ]
  },
  {
   "cell_type": "markdown",
   "metadata": {},
   "source": [
    "### Initialize Online CNN and Target CNN"
   ]
  },
  {
   "cell_type": "code",
   "execution_count": 62,
   "metadata": {},
   "outputs": [],
   "source": [
    "# Online CNN\n",
    "Online_CNN = tf.keras.models.Sequential()\n",
    "Online_CNN.add(tf.keras.layers.Conv2D(128, kernel_size=3, strides = (1, 1), padding='same', activation=tf.keras.activations.tanh, data_format = 'channels_last', input_shape=(7, 6, 4)))\n",
    "Online_CNN.add(tf.keras.layers.Conv2D(192, kernel_size=3, strides = (1, 1), padding='same', activation=tf.keras.activations.tanh))    \n",
    "Online_CNN.add(tf.keras.layers.Flatten())                      \n",
    "Online_CNN.add(tf.keras.layers.Dense(ae.ACTIONS_DIMENSION, activation=tf.keras.activations.relu, kernel_initializer='RandomNormal'))\n",
    "\n",
    "# Target CNN\n",
    "Target_CNN = tf.keras.models.Sequential()\n",
    "Target_CNN.add(tf.keras.layers.Conv2D(128, kernel_size=3, strides = (1, 1), padding='same', activation=tf.keras.activations.tanh, data_format = 'channels_last', input_shape=(7, 6, 4)))\n",
    "Target_CNN.add(tf.keras.layers.Conv2D(192, kernel_size=3, strides = (1, 1), padding='same', activation=tf.keras.activations.tanh))    \n",
    "Target_CNN.add(tf.keras.layers.Flatten())                      \n",
    "Target_CNN.add(tf.keras.layers.Dense(ae.ACTIONS_DIMENSION, activation=tf.keras.activations.relu, kernel_initializer='RandomNormal'))\n",
    "\n",
    "# Initialize optimizer\n",
    "optimizer = tf.keras.optimizers.Adam(LEARNING_RATE)\n",
    "\n",
    "# Set weights equal\n",
    "Target_CNN.set_weights(Online_CNN.get_weights())"
   ]
  },
  {
   "cell_type": "code",
   "execution_count": 63,
   "metadata": {},
   "outputs": [],
   "source": [
    "# Number of moves made to follow the target CNN update strategy\n",
    "total_moves = 1"
   ]
  },
  {
   "cell_type": "code",
   "execution_count": 64,
   "metadata": {},
   "outputs": [],
   "source": [
    "def loss(model, X, y_true, A):\n",
    "    prediction = model(X)\n",
    "    selected_action_values = tf.math.reduce_sum(prediction*A, axis=1)  \n",
    "    return tf.keras.losses.MSE(y_true, selected_action_values)\n",
    "\n",
    "\n",
    "def grad(model, inputs, targets, actions):\n",
    "    with tf.GradientTape() as tape:\n",
    "        loss_value = loss(model, inputs, targets, actions)\n",
    "    return loss_value, tape.gradient(loss_value, model.trainable_variables)"
   ]
  },
  {
   "cell_type": "markdown",
   "metadata": {},
   "source": [
    "## Dynamic Learning"
   ]
  },
  {
   "cell_type": "code",
   "execution_count": null,
   "metadata": {
    "scrolled": true
   },
   "outputs": [
    {
     "name": "stdout",
     "output_type": "stream",
     "text": [
      "New maximum: 50, after 0 games.\n",
      "New maximum: 78, after 1 games.\n",
      "New maximum: 98, after 4 games.\n",
      "New maximum: 131, after 7 games.\n",
      "New maximum: 147, after 8 games.\n",
      "New maximum: 184, after 44 games.\n",
      "Games: 500, last 500 games avg score: 58.97, avg of successful moves: 8.948, loss 19.484375\n",
      "CNN made 2557 moves. Successful were 152\n",
      "Games: 1000, last 500 games avg score: 58.538, avg of successful moves: 8.972, loss 5.515625\n",
      "CNN made 2559 moves. Successful were 144\n",
      "Games: 1500, last 500 games avg score: 58.956, avg of successful moves: 9.026, loss 12.796875\n",
      "CNN made 2481 moves. Successful were 156\n",
      "New maximum: 189, after 1701 games.\n",
      "New maximum: 206, after 1921 games.\n",
      "Games: 2000, last 500 games avg score: 58.908, avg of successful moves: 9.026, loss 19.046875\n",
      "CNN made 2539 moves. Successful were 144\n",
      "Games: 2500, last 500 games avg score: 61.652, avg of successful moves: 9.332, loss 9.765625\n",
      "CNN made 2462 moves. Successful were 151\n",
      "Games: 3000, last 500 games avg score: 58.178, avg of successful moves: 8.93, loss 40.859375\n",
      "CNN made 2530 moves. Successful were 142\n",
      "Games: 3500, last 500 games avg score: 58.454, avg of successful moves: 8.846, loss 5.3125\n",
      "CNN made 2554 moves. Successful were 144\n",
      "Games: 4000, last 500 games avg score: 59.44, avg of successful moves: 9.166, loss 24.8125\n",
      "CNN made 2505 moves. Successful were 127\n",
      "Games: 4500, last 500 games avg score: 57.81, avg of successful moves: 8.826, loss 12.125\n",
      "CNN made 2432 moves. Successful were 123\n",
      "Games: 5000, last 500 games avg score: 58.858, avg of successful moves: 9.194, loss 10.0625\n",
      "CNN made 2490 moves. Successful were 142\n",
      "Games: 5500, last 500 games avg score: 58.232, avg of successful moves: 9.066, loss 14.859375\n",
      "CNN made 2476 moves. Successful were 147\n",
      "New maximum: 218, after 5706 games.\n",
      "Games: 6000, last 500 games avg score: 59.692, avg of successful moves: 9.282, loss 5.71875\n",
      "CNN made 2484 moves. Successful were 150\n",
      "Games: 6500, last 500 games avg score: 60.598, avg of successful moves: 9.25, loss 10.484375\n",
      "CNN made 2519 moves. Successful were 151\n",
      "Games: 7000, last 500 games avg score: 59.566, avg of successful moves: 9.15, loss 17.6875\n",
      "CNN made 2556 moves. Successful were 132\n",
      "New maximum: 230, after 7106 games.\n",
      "Games: 7500, last 500 games avg score: 59.068, avg of successful moves: 9.148, loss 16.203125\n",
      "CNN made 2534 moves. Successful were 132\n",
      "Games: 8000, last 500 games avg score: 57.164, avg of successful moves: 8.884, loss 1.234375\n",
      "CNN made 2557 moves. Successful were 130\n",
      "Games: 8500, last 500 games avg score: 58.132, avg of successful moves: 9.104, loss 42.875\n",
      "CNN made 2626 moves. Successful were 156\n",
      "Games: 9000, last 500 games avg score: 60.152, avg of successful moves: 9.224, loss 8.328125\n",
      "CNN made 2425 moves. Successful were 163\n",
      "Games: 9500, last 500 games avg score: 61.252, avg of successful moves: 9.228, loss 9.1875\n",
      "CNN made 2450 moves. Successful were 152\n",
      "Games: 10000, last 500 games avg score: 60.276, avg of successful moves: 9.324, loss 5.078125\n",
      "CNN made 2471 moves. Successful were 148\n",
      "Games: 10500, last 500 games avg score: 59.688, avg of successful moves: 9.106, loss 6.4375\n",
      "CNN made 2557 moves. Successful were 137\n",
      "Games: 11000, last 500 games avg score: 58.164, avg of successful moves: 8.82, loss 6.875\n",
      "CNN made 2571 moves. Successful were 125\n",
      "Games: 11500, last 500 games avg score: 58.42, avg of successful moves: 9.018, loss 8.9375\n",
      "CNN made 2500 moves. Successful were 147\n",
      "Games: 12000, last 500 games avg score: 60.33, avg of successful moves: 9.228, loss 3.296875\n",
      "CNN made 2501 moves. Successful were 159\n",
      "Games: 12500, last 500 games avg score: 59.216, avg of successful moves: 9.082, loss 7.515625\n",
      "CNN made 2543 moves. Successful were 147\n",
      "Games: 13000, last 500 games avg score: 59.62, avg of successful moves: 8.942, loss 15.9375\n",
      "CNN made 2578 moves. Successful were 159\n",
      "Games: 13500, last 500 games avg score: 60.372, avg of successful moves: 9.086, loss 6.015625\n",
      "CNN made 2490 moves. Successful were 138\n",
      "Games: 14000, last 500 games avg score: 58.3, avg of successful moves: 8.962, loss 10.921875\n",
      "CNN made 2452 moves. Successful were 131\n",
      "Games: 14500, last 500 games avg score: 57.126, avg of successful moves: 8.848, loss 8.71875\n",
      "CNN made 2444 moves. Successful were 134\n",
      "Games: 15000, last 500 games avg score: 59.628, avg of successful moves: 9.254, loss 7.453125\n",
      "CNN made 2505 moves. Successful were 155\n",
      "Games: 15500, last 500 games avg score: 58.018, avg of successful moves: 8.882, loss 10.625\n",
      "CNN made 2387 moves. Successful were 152\n",
      "Games: 16000, last 500 games avg score: 58.872, avg of successful moves: 9.136, loss 14.890625\n",
      "CNN made 2428 moves. Successful were 138\n",
      "Games: 16500, last 500 games avg score: 58.748, avg of successful moves: 9.022, loss 3.078125\n",
      "CNN made 2594 moves. Successful were 135\n",
      "Games: 17000, last 500 games avg score: 61.572, avg of successful moves: 9.366, loss 8.71875\n",
      "CNN made 2522 moves. Successful were 149\n",
      "Games: 17500, last 500 games avg score: 58.826, avg of successful moves: 9.056, loss 7.796875\n",
      "CNN made 2488 moves. Successful were 157\n",
      "Games: 18000, last 500 games avg score: 56.416, avg of successful moves: 8.874, loss 13.859375\n",
      "CNN made 2528 moves. Successful were 130\n",
      "Games: 18500, last 500 games avg score: 59.068, avg of successful moves: 9.162, loss 5.84375\n",
      "CNN made 2516 moves. Successful were 146\n",
      "Games: 19000, last 500 games avg score: 58.952, avg of successful moves: 9.02, loss 16.65625\n",
      "CNN made 2493 moves. Successful were 143\n",
      "Games: 19500, last 500 games avg score: 59.816, avg of successful moves: 9.186, loss 5.765625\n",
      "CNN made 2556 moves. Successful were 169\n",
      "Games: 20000, last 500 games avg score: 59.05, avg of successful moves: 8.972, loss 2.25\n",
      "CNN made 2532 moves. Successful were 138\n",
      "Games: 20500, last 500 games avg score: 58.518, avg of successful moves: 9.094, loss 19.5\n",
      "CNN made 2574 moves. Successful were 151\n",
      "Games: 21000, last 500 games avg score: 59.69, avg of successful moves: 9.182, loss 10.0625\n",
      "CNN made 2509 moves. Successful were 150\n",
      "Games: 21500, last 500 games avg score: 58.844, avg of successful moves: 9.094, loss 12.84375\n",
      "CNN made 2533 moves. Successful were 146\n",
      "Games: 22000, last 500 games avg score: 59.872, avg of successful moves: 9.12, loss 19.21875\n",
      "CNN made 2507 moves. Successful were 135\n",
      "Games: 22500, last 500 games avg score: 59.984, avg of successful moves: 9.362, loss 24.1875\n",
      "CNN made 2553 moves. Successful were 162\n",
      "Games: 23000, last 500 games avg score: 58.204, avg of successful moves: 9.062, loss 38.265625\n",
      "CNN made 2509 moves. Successful were 139\n",
      "Games: 23500, last 500 games avg score: 59.052, avg of successful moves: 9.082, loss 22.34375\n",
      "CNN made 2533 moves. Successful were 160\n",
      "Games: 24000, last 500 games avg score: 59.53, avg of successful moves: 8.952, loss 2.640625\n",
      "CNN made 2475 moves. Successful were 127\n",
      "Games: 24500, last 500 games avg score: 58.572, avg of successful moves: 8.956, loss 5.578125\n",
      "CNN made 2562 moves. Successful were 170\n",
      "Games: 25000, last 500 games avg score: 61.212, avg of successful moves: 9.264, loss 18.421875\n",
      "CNN made 2529 moves. Successful were 166\n",
      "Games: 25500, last 500 games avg score: 60.726, avg of successful moves: 9.228, loss 23.96875\n",
      "CNN made 2487 moves. Successful were 148\n",
      "Games: 26000, last 500 games avg score: 59.25, avg of successful moves: 9.05, loss 25.6875\n",
      "CNN made 2530 moves. Successful were 166\n",
      "Games: 26500, last 500 games avg score: 57.726, avg of successful moves: 8.956, loss 11.21875\n",
      "CNN made 2457 moves. Successful were 157\n",
      "Games: 27000, last 500 games avg score: 61.452, avg of successful moves: 9.476, loss 12.03125\n",
      "CNN made 2474 moves. Successful were 153\n",
      "Games: 27500, last 500 games avg score: 60.574, avg of successful moves: 9.274, loss 6.03125\n",
      "CNN made 2478 moves. Successful were 140\n",
      "Games: 28000, last 500 games avg score: 57.702, avg of successful moves: 9.084, loss 7.640625\n",
      "CNN made 2508 moves. Successful were 112\n",
      "Games: 28500, last 500 games avg score: 58.952, avg of successful moves: 9.198, loss 16.53125\n",
      "CNN made 2499 moves. Successful were 155\n",
      "Games: 29000, last 500 games avg score: 60.018, avg of successful moves: 9.178, loss 8.75\n",
      "CNN made 2531 moves. Successful were 145\n",
      "Games: 29500, last 500 games avg score: 58.98, avg of successful moves: 9.09, loss 10.21875\n",
      "CNN made 2474 moves. Successful were 133\n"
     ]
    },
    {
     "name": "stdout",
     "output_type": "stream",
     "text": [
      "Games: 30000, last 500 games avg score: 60.38, avg of successful moves: 9.178, loss 9.875\n",
      "CNN made 2441 moves. Successful were 142\n",
      "Games: 30500, last 500 games avg score: 59.166, avg of successful moves: 8.938, loss 14.421875\n",
      "CNN made 2542 moves. Successful were 131\n",
      "Games: 31000, last 500 games avg score: 57.924, avg of successful moves: 9.094, loss 6.796875\n",
      "CNN made 2521 moves. Successful were 157\n",
      "Games: 31500, last 500 games avg score: 58.674, avg of successful moves: 9.2, loss 11.296875\n",
      "CNN made 2440 moves. Successful were 146\n",
      "Games: 32000, last 500 games avg score: 59.18, avg of successful moves: 8.986, loss 6.09375\n",
      "CNN made 2564 moves. Successful were 135\n",
      "Games: 32500, last 500 games avg score: 59.81, avg of successful moves: 9.214, loss 4.140625\n",
      "CNN made 2496 moves. Successful were 161\n",
      "Games: 33000, last 500 games avg score: 60.91, avg of successful moves: 9.36, loss 1.9375\n",
      "CNN made 2486 moves. Successful were 137\n",
      "Games: 33500, last 500 games avg score: 60.996, avg of successful moves: 9.18, loss 13.1875\n",
      "CNN made 2548 moves. Successful were 149\n",
      "Games: 34000, last 500 games avg score: 59.976, avg of successful moves: 9.166, loss 14.1875\n",
      "CNN made 2489 moves. Successful were 168\n",
      "Games: 34500, last 500 games avg score: 59.784, avg of successful moves: 9.158, loss 20.03125\n",
      "CNN made 2528 moves. Successful were 156\n",
      "Games: 35000, last 500 games avg score: 59.232, avg of successful moves: 9.206, loss 22.390625\n",
      "CNN made 2576 moves. Successful were 144\n",
      "Games: 35500, last 500 games avg score: 61.062, avg of successful moves: 9.284, loss 3.796875\n",
      "CNN made 2449 moves. Successful were 133\n",
      "Games: 36000, last 500 games avg score: 61.836, avg of successful moves: 9.374, loss 22.203125\n",
      "CNN made 2440 moves. Successful were 165\n",
      "Games: 36500, last 500 games avg score: 56.594, avg of successful moves: 8.84, loss 4.09375\n",
      "CNN made 2481 moves. Successful were 155\n",
      "Games: 37000, last 500 games avg score: 57.332, avg of successful moves: 8.822, loss 17.78125\n",
      "CNN made 2538 moves. Successful were 128\n",
      "Games: 37500, last 500 games avg score: 59.994, avg of successful moves: 9.202, loss 6.265625\n",
      "CNN made 2498 moves. Successful were 141\n",
      "Games: 38000, last 500 games avg score: 59.564, avg of successful moves: 9.178, loss 8.796875\n",
      "CNN made 2466 moves. Successful were 158\n",
      "Games: 38500, last 500 games avg score: 60.16, avg of successful moves: 9.184, loss 25.53125\n",
      "CNN made 2514 moves. Successful were 147\n",
      "Games: 39000, last 500 games avg score: 60.546, avg of successful moves: 9.222, loss 25.328125\n",
      "CNN made 2480 moves. Successful were 148\n",
      "Games: 39500, last 500 games avg score: 59.752, avg of successful moves: 9.188, loss 3.671875\n",
      "CNN made 2342 moves. Successful were 138\n",
      "Games: 40000, last 500 games avg score: 60.652, avg of successful moves: 9.118, loss 14.890625\n",
      "CNN made 2525 moves. Successful were 139\n",
      "Games: 40500, last 500 games avg score: 62.304, avg of successful moves: 9.34, loss 11.96875\n",
      "CNN made 2519 moves. Successful were 155\n",
      "Games: 41000, last 500 games avg score: 61.018, avg of successful moves: 9.248, loss 16.078125\n",
      "CNN made 2460 moves. Successful were 144\n",
      "Games: 41500, last 500 games avg score: 57.442, avg of successful moves: 8.854, loss 4.65625\n",
      "CNN made 2458 moves. Successful were 119\n",
      "Games: 42000, last 500 games avg score: 59.956, avg of successful moves: 9.094, loss 20.21875\n",
      "CNN made 2530 moves. Successful were 129\n",
      "Games: 42500, last 500 games avg score: 58.548, avg of successful moves: 9.1, loss 13.171875\n",
      "CNN made 2469 moves. Successful were 156\n",
      "Games: 43000, last 500 games avg score: 59.336, avg of successful moves: 9.174, loss 10.953125\n",
      "CNN made 2546 moves. Successful were 154\n",
      "Games: 43500, last 500 games avg score: 58.572, avg of successful moves: 9.046, loss 3.359375\n",
      "CNN made 2518 moves. Successful were 134\n",
      "Games: 44000, last 500 games avg score: 59.832, avg of successful moves: 9.188, loss 15.375\n",
      "CNN made 2502 moves. Successful were 144\n",
      "Games: 44500, last 500 games avg score: 59.14, avg of successful moves: 9.044, loss 12.34375\n",
      "CNN made 2487 moves. Successful were 128\n",
      "Games: 45000, last 500 games avg score: 59.428, avg of successful moves: 9.06, loss 14.46875\n",
      "CNN made 2481 moves. Successful were 157\n",
      "Games: 45500, last 500 games avg score: 60.166, avg of successful moves: 9.246, loss 3.234375\n",
      "CNN made 2610 moves. Successful were 154\n",
      "Games: 46000, last 500 games avg score: 57.578, avg of successful moves: 9.058, loss 26.875\n",
      "CNN made 2498 moves. Successful were 136\n",
      "Games: 46500, last 500 games avg score: 60.884, avg of successful moves: 9.32, loss 10.375\n",
      "CNN made 2630 moves. Successful were 159\n",
      "Games: 47000, last 500 games avg score: 59.568, avg of successful moves: 9.088, loss 47.84375\n",
      "CNN made 2499 moves. Successful were 154\n",
      "Games: 47500, last 500 games avg score: 60.226, avg of successful moves: 9.09, loss 4.15625\n",
      "CNN made 2559 moves. Successful were 146\n",
      "Games: 48000, last 500 games avg score: 58.466, avg of successful moves: 9.004, loss 10.3125\n",
      "CNN made 2520 moves. Successful were 130\n",
      "Games: 48500, last 500 games avg score: 60.916, avg of successful moves: 9.19, loss 11.78125\n",
      "CNN made 2510 moves. Successful were 167\n",
      "Games: 49000, last 500 games avg score: 58.776, avg of successful moves: 9.044, loss 4.84375\n",
      "CNN made 2483 moves. Successful were 132\n",
      "Games: 49500, last 500 games avg score: 58.612, avg of successful moves: 8.94, loss 7.515625\n",
      "CNN made 2459 moves. Successful were 131\n",
      "Games: 50000, last 500 games avg score: 58.888, avg of successful moves: 9.098, loss 19.578125\n",
      "CNN made 2529 moves. Successful were 142\n",
      "Games: 50500, last 500 games avg score: 59.626, avg of successful moves: 9.014, loss 5.703125\n",
      "CNN made 2479 moves. Successful were 127\n",
      "Games: 51000, last 500 games avg score: 58.778, avg of successful moves: 9.024, loss 22.0625\n",
      "CNN made 2540 moves. Successful were 144\n",
      "Games: 51500, last 500 games avg score: 56.808, avg of successful moves: 8.872, loss 0.984375\n",
      "CNN made 2542 moves. Successful were 128\n",
      "Games: 52000, last 500 games avg score: 56.432, avg of successful moves: 8.892, loss 13.265625\n",
      "CNN made 2556 moves. Successful were 138\n",
      "Games: 52500, last 500 games avg score: 58.16, avg of successful moves: 8.978, loss 7.203125\n",
      "CNN made 2462 moves. Successful were 145\n",
      "Games: 53000, last 500 games avg score: 59.742, avg of successful moves: 9.104, loss 7.09375\n",
      "CNN made 2529 moves. Successful were 143\n",
      "Games: 53500, last 500 games avg score: 61.162, avg of successful moves: 9.244, loss 10.703125\n",
      "CNN made 2535 moves. Successful were 148\n",
      "Games: 54000, last 500 games avg score: 59.484, avg of successful moves: 9.13, loss 2.640625\n",
      "CNN made 2533 moves. Successful were 125\n",
      "Games: 54500, last 500 games avg score: 60.622, avg of successful moves: 9.312, loss 10.671875\n",
      "CNN made 2454 moves. Successful were 134\n",
      "Games: 55000, last 500 games avg score: 58.702, avg of successful moves: 9.088, loss 17.9375\n",
      "CNN made 2460 moves. Successful were 136\n",
      "Games: 55500, last 500 games avg score: 59.294, avg of successful moves: 9.232, loss 1.546875\n",
      "CNN made 2505 moves. Successful were 131\n",
      "Games: 56000, last 500 games avg score: 62.27, avg of successful moves: 9.184, loss 10.265625\n",
      "CNN made 2361 moves. Successful were 154\n",
      "Games: 56500, last 500 games avg score: 59.064, avg of successful moves: 9.02, loss 9.28125\n",
      "CNN made 2489 moves. Successful were 153\n",
      "Games: 57000, last 500 games avg score: 59.856, avg of successful moves: 9.238, loss 9.640625\n",
      "CNN made 2533 moves. Successful were 143\n",
      "Games: 57500, last 500 games avg score: 59.69, avg of successful moves: 9.01, loss 9.421875\n",
      "CNN made 2425 moves. Successful were 138\n",
      "Games: 58000, last 500 games avg score: 60.662, avg of successful moves: 9.288, loss 12.140625\n",
      "CNN made 2458 moves. Successful were 154\n",
      "Games: 58500, last 500 games avg score: 56.964, avg of successful moves: 8.806, loss 11.234375\n",
      "CNN made 2578 moves. Successful were 167\n",
      "Games: 59000, last 500 games avg score: 59.174, avg of successful moves: 9.13, loss 5.34375\n",
      "CNN made 2446 moves. Successful were 131\n",
      "Games: 59500, last 500 games avg score: 58.728, avg of successful moves: 9.09, loss 20.171875\n",
      "CNN made 2479 moves. Successful were 139\n",
      "Games: 60000, last 500 games avg score: 60.954, avg of successful moves: 9.226, loss 8.1875\n",
      "CNN made 2468 moves. Successful were 142\n"
     ]
    },
    {
     "name": "stdout",
     "output_type": "stream",
     "text": [
      "Games: 60500, last 500 games avg score: 60.968, avg of successful moves: 9.402, loss 13.46875\n",
      "CNN made 2497 moves. Successful were 150\n",
      "Games: 61000, last 500 games avg score: 58.318, avg of successful moves: 9.054, loss 6.8125\n",
      "CNN made 2544 moves. Successful were 152\n",
      "Games: 61500, last 500 games avg score: 58.974, avg of successful moves: 9.274, loss 8.515625\n",
      "CNN made 2398 moves. Successful were 139\n",
      "Games: 62000, last 500 games avg score: 57.956, avg of successful moves: 9.068, loss 50.5\n",
      "CNN made 2456 moves. Successful were 139\n",
      "Games: 62500, last 500 games avg score: 59.756, avg of successful moves: 9.136, loss 13.296875\n",
      "CNN made 2491 moves. Successful were 147\n",
      "New maximum: 246, after 62638 games.\n",
      "Games: 63000, last 500 games avg score: 59.394, avg of successful moves: 9.152, loss 7.1875\n",
      "CNN made 2459 moves. Successful were 124\n",
      "Games: 63500, last 500 games avg score: 59.03, avg of successful moves: 9.0, loss 2.875\n",
      "CNN made 2427 moves. Successful were 134\n",
      "Games: 64000, last 500 games avg score: 57.572, avg of successful moves: 8.96, loss 8.484375\n",
      "CNN made 2584 moves. Successful were 157\n",
      "Games: 64500, last 500 games avg score: 57.728, avg of successful moves: 8.898, loss 21.453125\n",
      "CNN made 2555 moves. Successful were 140\n",
      "Games: 65000, last 500 games avg score: 58.552, avg of successful moves: 8.912, loss 3.375\n",
      "CNN made 2502 moves. Successful were 129\n"
     ]
    }
   ],
   "source": [
    "%%time\n",
    "                                                      \n",
    "for game in range(GAMES_TO_PLAY):\n",
    "    # Start one game\n",
    "    game_score = 0\n",
    "    successful_moves = 0\n",
    "\n",
    "    # Initialize the game field\n",
    "    field = np.zeros((7, 6, 4))\n",
    "    field = ae.initialize_field_3D(field)\n",
    "\n",
    "    for m in range(NUMBER_OF_MOVES_IN_GAME):\n",
    "        # Total score of one move\n",
    "        reward = 0\n",
    "\n",
    "        # Whether CNN made the move\n",
    "        cnn_made_move_flag = False\n",
    "        \n",
    "        # If replay_memory has less than 64 moves, then make a random move\n",
    "        if ((len(replay_memory) < MINIBATCH_SIZE) or (rd.random() > CNN_MOVE_PROB)):\n",
    "            move = rd.randint(1, ae.ACTIONS_DIMENSION)\n",
    "        else:\n",
    "            # CNN selects a move\n",
    "            cnn_made_move_flag = True\n",
    "            CNN_MOVES_COUNT = CNN_MOVES_COUNT + 1\n",
    "            X_data = np.expand_dims(np.copy(field), axis=0)\n",
    "            move = Target_CNN.predict(X_data).argmax() + 1\n",
    "\n",
    "        # Make the move\n",
    "        new_field, plate_a, plate_b = ae.make_move_v2_3D(field.copy(), move, ae.MOVES)\n",
    "\n",
    "        # Calculate the score and update the field\n",
    "        score, new_field = ae.calculate_score_v2_3D(new_field, plate_a, plate_b)\n",
    "        \n",
    "        # If the move is successful, then update the field and check if we have new sets        \n",
    "        successful_move_flag = False\n",
    "\n",
    "        # While we have new sets (thus the score is greater than 0), process them, calculate score and move plates\n",
    "        while (score > 0.):\n",
    "            if (not successful_move_flag):\n",
    "                successful_moves = successful_moves + 1\n",
    "                successful_move_flag = True\n",
    "\n",
    "            # Add new points to the total score of the move\n",
    "            reward = reward + score\n",
    "\n",
    "            # Move plates downward, fill the upper row so, that it doesn't have \"easy\" sets of three\n",
    "            # Start from the left lower corner (in order to reuse color_fits())\n",
    "            new_field = ae.fill_field_3D(new_field)\n",
    "\n",
    "            # Calculate score and check whether we have new sets\n",
    "            score, new_field = ae.calculate_score_v2_3D(new_field, (-1, -1), (-1, -1))\n",
    "\n",
    "        # Increase the score of the whole game\n",
    "        game_score = game_score + reward\n",
    "        \n",
    "        # Check whether it's the last move of the current game\n",
    "        last_move = m == NUMBER_OF_MOVES_IN_GAME - 1\n",
    "        \n",
    "        # Add new move to the replay memory\n",
    "        replay_memory.add(field, move, reward, new_field, last_move)\n",
    "        \n",
    "        # Update CNN move statistics\n",
    "        if (successful_move_flag) and (cnn_made_move_flag):\n",
    "            CNN_SUCCESSFUL_PREDICTION = CNN_SUCCESSFUL_PREDICTION + 1               \n",
    "        \n",
    "        #\n",
    "        # Train CNN based on the score\n",
    "        #\n",
    "        if (len(replay_memory) >= MINIBATCH_SIZE):\n",
    "            # Select random MINIBATCH_SIZE moves from replay memory buffer\n",
    "            samples = replay_memory.sample_minibatch(MINIBATCH_SIZE)\n",
    "\n",
    "            # Prepare some things for training\n",
    "            s_before = samples[0]\n",
    "            actions = samples[1]\n",
    "            rewards = samples[2]\n",
    "            s_after = samples[3] \n",
    "            dones = samples[4]\n",
    "            \n",
    "            rewards_next = np.max(Target_CNN(s_after), axis=1)\n",
    "            actual_values = np.where(dones, rewards, rewards + GAMMA*rewards_next)\n",
    "            selected_actions = tf.one_hot(actions - 1, ae.ACTIONS_DIMENSION)\n",
    "            \n",
    "            # Update online CNN weights: training step\n",
    "            for _ in range(DYNAMIC_LEARNING_EPOCHS):             \n",
    "                loss_value, grads = grad(Online_CNN, s_before, actual_values, selected_actions)\n",
    "                optimizer.apply_gradients(zip(grads, Online_CNN.trainable_variables))\n",
    "\n",
    "        # If move is successful, update the play field\n",
    "        if (successful_move_flag):\n",
    "            field = np.copy(new_field)\n",
    "            \n",
    "        # After each UPDATE_TARGET_NET moves update target CNN\n",
    "        if (total_moves % UPDATE_TARGET_NET == 0):\n",
    "            Target_CNN.set_weights(Online_CNN.get_weights())\n",
    "            \n",
    "        total_moves = total_moves + 1\n",
    "\n",
    "    #\n",
    "    # Calculate and display overall stats\n",
    "    #\n",
    "    # Check whether we have new maximum score\n",
    "    if (game_score > MAXIMUM_SCORE):\n",
    "        print(f\"New maximum: {game_score}, after {game} games.\")\n",
    "        MAXIMUM_SCORE = game_score\n",
    "        \n",
    "    # After each 500 games output average game score, average number of successful moves per game\n",
    "    TOTAL_SCORE_500 = TOTAL_SCORE_500 + game_score\n",
    "    TOTAL_SUCCESSFUL_MOVES_500 = TOTAL_SUCCESSFUL_MOVES_500 + successful_moves\n",
    "    \n",
    "    if ((game % 500 == 0) and (game > 0)):\n",
    "        avg_score = TOTAL_SCORE_500 / 500\n",
    "        TOTAL_SCORE_500 = 0.0\n",
    "        \n",
    "        avg_succ_moves = TOTAL_SUCCESSFUL_MOVES_500 / 500\n",
    "        TOTAL_SUCCESSFUL_MOVES_500 = 0.0\n",
    "\n",
    "        print(f\"Games: {game}, last 500 games avg score: {avg_score}, avg of successful moves: {avg_succ_moves}, loss {loss_value.numpy()}\")        \n",
    "        print(f\"CNN made {CNN_MOVES_COUNT} moves. Successful were {CNN_SUCCESSFUL_PREDICTION}\")\n",
    "        \n",
    "        if (CNN_SUCCESSFUL_PREDICTION / CNN_MOVES_COUNT >= CNN_MOVE_PROB):\n",
    "            CNN_MOVE_PROB = CNN_MOVE_PROB + 0.1\n",
    "            \n",
    "        CNN_MOVES_COUNT = 0\n",
    "        CNN_SUCCESSFUL_PREDICTION = 0\n"
   ]
  },
  {
   "cell_type": "code",
   "execution_count": null,
   "metadata": {},
   "outputs": [],
   "source": []
  },
  {
   "cell_type": "code",
   "execution_count": null,
   "metadata": {},
   "outputs": [],
   "source": [
    "# tensorboard --logdir=./logs --bind_all &\n",
    "\n",
    "print(MAXIMUM_SCORE)"
   ]
  },
  {
   "cell_type": "markdown",
   "metadata": {},
   "source": [
    "## Test part"
   ]
  },
  {
   "cell_type": "code",
   "execution_count": null,
   "metadata": {},
   "outputs": [],
   "source": [
    "#field = np.zeros((7, 6))\n",
    "\n",
    "df = pd.DataFrame(updated_field)\n",
    "qgrid_widget = qgrid.show_grid(df, show_toolbar=True)\n",
    "qgrid_widget"
   ]
  },
  {
   "cell_type": "code",
   "execution_count": null,
   "metadata": {
    "scrolled": true
   },
   "outputs": [],
   "source": [
    "updated_df = qgrid_widget.get_changed_df()\n",
    "updated_field = updated_df.values\n",
    "visualize_field(updated_field)"
   ]
  },
  {
   "cell_type": "code",
   "execution_count": null,
   "metadata": {},
   "outputs": [],
   "source": [
    "get_sets(updated_field)"
   ]
  },
  {
   "cell_type": "code",
   "execution_count": null,
   "metadata": {},
   "outputs": [],
   "source": [
    "score, new_field = calculate_score_v2(updated_field, (6, 3), (5, 3))\n",
    "print(score)\n",
    "visualize_field(updated_field)"
   ]
  },
  {
   "cell_type": "code",
   "execution_count": null,
   "metadata": {},
   "outputs": [],
   "source": [
    "#updated_field_2 = fill_field(updated_field, colors)\n",
    "#visualize_field(updated_field_2)"
   ]
  },
  {
   "cell_type": "code",
   "execution_count": null,
   "metadata": {},
   "outputs": [],
   "source": []
  },
  {
   "cell_type": "code",
   "execution_count": null,
   "metadata": {},
   "outputs": [],
   "source": []
  },
  {
   "cell_type": "code",
   "execution_count": null,
   "metadata": {},
   "outputs": [],
   "source": []
  },
  {
   "cell_type": "code",
   "execution_count": null,
   "metadata": {},
   "outputs": [],
   "source": []
  },
  {
   "cell_type": "code",
   "execution_count": null,
   "metadata": {},
   "outputs": [],
   "source": [
    "def loss(model, X, y_true, A):\n",
    "    # Модель предсказывает награду для каждого из 142 ходов\n",
    "    prediction = model(X)\n",
    "    \n",
    "    # Выбираем предсказания только для реально сделанных ходов\n",
    "    selected_action_values = tf.math.reduce_sum(prediction*A, axis=1) \n",
    "    \n",
    "    \n",
    "    return tf.keras.losses.MSE(y_true, selected_action_values)\n",
    "\n",
    "\n",
    "def grad(model, inputs, targets, actions):\n",
    "    with tf.GradientTape() as tape:\n",
    "        loss_value = loss(model, inputs, targets, actions)\n",
    "    return loss_value, tape.gradient(loss_value, model.trainable_variables)\n",
    "\n",
    "\n",
    "\n",
    "# Моедль предсказывает результаты как бы следующего хода за текущим\n",
    "rewards_next = np.max(Target_CNN(s_after), axis=1)\n",
    "\n",
    "actual_values = np.where(dones, rewards, rewards + GAMMA*rewards_next)\n",
    "\n",
    "# Кодируем только реально сделанные сейчас ходы\n",
    "selected_actions = tf.one_hot(actions, ae.ACTIONS_DIMENSION)\n",
    "\n",
    "\n",
    "# Update online CNN weights: training step\n",
    "for _ in range(DYNAMIC_LEARNING_EPOCHS):             \n",
    "    loss_value, grads = grad(Online_CNN, s_before, actual_values, selected_actions)\n",
    "    optimizer.apply_gradients(zip(grads, Online_CNN.trainable_variables))"
   ]
  },
  {
   "cell_type": "code",
   "execution_count": 60,
   "metadata": {
    "scrolled": false
   },
   "outputs": [
    {
     "data": {
      "text/plain": [
       "(64,)"
      ]
     },
     "execution_count": 60,
     "metadata": {},
     "output_type": "execute_result"
    }
   ],
   "source": [
    "actual_values.shape"
   ]
  },
  {
   "cell_type": "code",
   "execution_count": 59,
   "metadata": {},
   "outputs": [
    {
     "data": {
      "text/plain": [
       "<tf.Tensor: shape=(142,), dtype=float32, numpy=\n",
       "array([0., 0., 0., 1., 0., 0., 0., 0., 0., 0., 0., 0., 0., 0., 0., 0., 0.,\n",
       "       0., 0., 0., 0., 0., 0., 0., 0., 0., 0., 0., 0., 0., 0., 0., 0., 0.,\n",
       "       0., 0., 0., 0., 0., 0., 0., 0., 0., 0., 0., 0., 0., 0., 0., 0., 0.,\n",
       "       0., 0., 0., 0., 0., 0., 0., 0., 0., 0., 0., 0., 0., 0., 0., 0., 0.,\n",
       "       0., 0., 0., 0., 0., 0., 0., 0., 0., 0., 0., 0., 0., 0., 0., 0., 0.,\n",
       "       0., 0., 0., 0., 0., 0., 0., 0., 0., 0., 0., 0., 0., 0., 0., 0., 0.,\n",
       "       0., 0., 0., 0., 0., 0., 0., 0., 0., 0., 0., 0., 0., 0., 0., 0., 0.,\n",
       "       0., 0., 0., 0., 0., 0., 0., 0., 0., 0., 0., 0., 0., 0., 0., 0., 0.,\n",
       "       0., 0., 0., 0., 0., 0.], dtype=float32)>"
      ]
     },
     "execution_count": 59,
     "metadata": {},
     "output_type": "execute_result"
    }
   ],
   "source": [
    "tf.one_hot(actions - 1, ae.ACTIONS_DIMENSION)[0]"
   ]
  },
  {
   "cell_type": "code",
   "execution_count": null,
   "metadata": {},
   "outputs": [],
   "source": []
  },
  {
   "cell_type": "code",
   "execution_count": null,
   "metadata": {},
   "outputs": [],
   "source": []
  },
  {
   "cell_type": "code",
   "execution_count": null,
   "metadata": {},
   "outputs": [],
   "source": []
  },
  {
   "cell_type": "code",
   "execution_count": null,
   "metadata": {},
   "outputs": [],
   "source": []
  },
  {
   "cell_type": "code",
   "execution_count": null,
   "metadata": {},
   "outputs": [],
   "source": []
  },
  {
   "cell_type": "code",
   "execution_count": null,
   "metadata": {},
   "outputs": [],
   "source": []
  },
  {
   "cell_type": "code",
   "execution_count": null,
   "metadata": {},
   "outputs": [],
   "source": []
  },
  {
   "cell_type": "code",
   "execution_count": null,
   "metadata": {},
   "outputs": [],
   "source": []
  },
  {
   "cell_type": "code",
   "execution_count": null,
   "metadata": {},
   "outputs": [],
   "source": []
  },
  {
   "cell_type": "code",
   "execution_count": null,
   "metadata": {
    "scrolled": true
   },
   "outputs": [],
   "source": []
  },
  {
   "cell_type": "code",
   "execution_count": null,
   "metadata": {},
   "outputs": [],
   "source": []
  },
  {
   "cell_type": "code",
   "execution_count": null,
   "metadata": {},
   "outputs": [],
   "source": []
  },
  {
   "cell_type": "code",
   "execution_count": null,
   "metadata": {},
   "outputs": [],
   "source": []
  },
  {
   "cell_type": "code",
   "execution_count": null,
   "metadata": {},
   "outputs": [],
   "source": []
  },
  {
   "cell_type": "code",
   "execution_count": null,
   "metadata": {},
   "outputs": [],
   "source": []
  },
  {
   "cell_type": "code",
   "execution_count": null,
   "metadata": {
    "scrolled": true
   },
   "outputs": [],
   "source": []
  },
  {
   "cell_type": "code",
   "execution_count": null,
   "metadata": {},
   "outputs": [],
   "source": [
    "new_field = make_move(field, move)\n",
    "print(new_field)"
   ]
  },
  {
   "cell_type": "code",
   "execution_count": null,
   "metadata": {},
   "outputs": [],
   "source": [
    "temp_field = calculate_score(new_field)"
   ]
  },
  {
   "cell_type": "code",
   "execution_count": null,
   "metadata": {},
   "outputs": [],
   "source": [
    "new_field = np.multiply(new_field, 1.0 - temp_field)"
   ]
  },
  {
   "cell_type": "code",
   "execution_count": null,
   "metadata": {},
   "outputs": [],
   "source": [
    "fill_field(new_field, colors)"
   ]
  },
  {
   "cell_type": "code",
   "execution_count": null,
   "metadata": {},
   "outputs": [],
   "source": []
  },
  {
   "cell_type": "code",
   "execution_count": 30,
   "metadata": {},
   "outputs": [],
   "source": [
    "??ae"
   ]
  }
 ],
 "metadata": {
  "kernelspec": {
   "display_name": "Python 3",
   "language": "python",
   "name": "python3"
  },
  "language_info": {
   "codemirror_mode": {
    "name": "ipython",
    "version": 3
   },
   "file_extension": ".py",
   "mimetype": "text/x-python",
   "name": "python",
   "nbconvert_exporter": "python",
   "pygments_lexer": "ipython3",
   "version": "3.8.5"
  }
 },
 "nbformat": 4,
 "nbformat_minor": 2
}
